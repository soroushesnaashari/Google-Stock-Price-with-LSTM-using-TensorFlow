{
 "cells": [
  {
   "cell_type": "markdown",
   "id": "96ce4a54",
   "metadata": {
    "papermill": {
     "duration": 0.008464,
     "end_time": "2025-03-10T14:40:47.995346",
     "exception": false,
     "start_time": "2025-03-10T14:40:47.986882",
     "status": "completed"
    },
    "tags": []
   },
   "source": [
    "## <span style=\"color: #a9af90\">1 | </span><span style=\"color: #586c5c\">Libraries</span>"
   ]
  },
  {
   "cell_type": "code",
   "execution_count": 1,
   "id": "6932f5e7",
   "metadata": {
    "_kg_hide-output": true,
    "execution": {
     "iopub.execute_input": "2025-03-10T14:40:48.011944Z",
     "iopub.status.busy": "2025-03-10T14:40:48.011656Z",
     "iopub.status.idle": "2025-03-10T14:40:56.343858Z",
     "shell.execute_reply": "2025-03-10T14:40:56.342937Z"
    },
    "papermill": {
     "duration": 8.342241,
     "end_time": "2025-03-10T14:40:56.345420",
     "exception": false,
     "start_time": "2025-03-10T14:40:48.003179",
     "status": "completed"
    },
    "tags": []
   },
   "outputs": [
    {
     "name": "stdout",
     "output_type": "stream",
     "text": [
      "Collecting yahoo-fin\r\n",
      "  Downloading yahoo_fin-0.8.9.1-py3-none-any.whl.metadata (699 bytes)\r\n",
      "Collecting requests-html (from yahoo-fin)\r\n",
      "  Downloading requests_html-0.10.0-py3-none-any.whl.metadata (15 kB)\r\n",
      "Collecting feedparser (from yahoo-fin)\r\n",
      "  Downloading feedparser-6.0.11-py3-none-any.whl.metadata (2.4 kB)\r\n",
      "Requirement already satisfied: requests in /usr/local/lib/python3.10/dist-packages (from yahoo-fin) (2.32.3)\r\n",
      "Requirement already satisfied: pandas in /usr/local/lib/python3.10/dist-packages (from yahoo-fin) (2.2.3)\r\n",
      "Collecting sgmllib3k (from feedparser->yahoo-fin)\r\n",
      "  Downloading sgmllib3k-1.0.0.tar.gz (5.8 kB)\r\n",
      "  Preparing metadata (setup.py) ... \u001b[?25l\u001b[?25hdone\r\n",
      "Requirement already satisfied: numpy>=1.22.4 in /usr/local/lib/python3.10/dist-packages (from pandas->yahoo-fin) (1.26.4)\r\n",
      "Requirement already satisfied: python-dateutil>=2.8.2 in /usr/local/lib/python3.10/dist-packages (from pandas->yahoo-fin) (2.9.0.post0)\r\n",
      "Requirement already satisfied: pytz>=2020.1 in /usr/local/lib/python3.10/dist-packages (from pandas->yahoo-fin) (2025.1)\r\n",
      "Requirement already satisfied: tzdata>=2022.7 in /usr/local/lib/python3.10/dist-packages (from pandas->yahoo-fin) (2025.1)\r\n",
      "Requirement already satisfied: charset-normalizer<4,>=2 in /usr/local/lib/python3.10/dist-packages (from requests->yahoo-fin) (3.4.1)\r\n",
      "Requirement already satisfied: idna<4,>=2.5 in /usr/local/lib/python3.10/dist-packages (from requests->yahoo-fin) (3.10)\r\n",
      "Requirement already satisfied: urllib3<3,>=1.21.1 in /usr/local/lib/python3.10/dist-packages (from requests->yahoo-fin) (2.3.0)\r\n",
      "Requirement already satisfied: certifi>=2017.4.17 in /usr/local/lib/python3.10/dist-packages (from requests->yahoo-fin) (2025.1.31)\r\n",
      "Collecting pyquery (from requests-html->yahoo-fin)\r\n",
      "  Downloading pyquery-2.0.1-py3-none-any.whl.metadata (9.0 kB)\r\n",
      "Collecting fake-useragent (from requests-html->yahoo-fin)\r\n",
      "  Downloading fake_useragent-2.0.3-py3-none-any.whl.metadata (17 kB)\r\n",
      "Collecting parse (from requests-html->yahoo-fin)\r\n",
      "  Downloading parse-1.20.2-py2.py3-none-any.whl.metadata (22 kB)\r\n",
      "Collecting bs4 (from requests-html->yahoo-fin)\r\n",
      "  Downloading bs4-0.0.2-py2.py3-none-any.whl.metadata (411 bytes)\r\n",
      "Collecting w3lib (from requests-html->yahoo-fin)\r\n",
      "  Downloading w3lib-2.3.1-py3-none-any.whl.metadata (2.3 kB)\r\n",
      "Collecting pyppeteer>=0.0.14 (from requests-html->yahoo-fin)\r\n",
      "  Downloading pyppeteer-2.0.0-py3-none-any.whl.metadata (7.1 kB)\r\n",
      "Requirement already satisfied: mkl_fft in /usr/local/lib/python3.10/dist-packages (from numpy>=1.22.4->pandas->yahoo-fin) (1.3.8)\r\n",
      "Requirement already satisfied: mkl_random in /usr/local/lib/python3.10/dist-packages (from numpy>=1.22.4->pandas->yahoo-fin) (1.2.4)\r\n",
      "Requirement already satisfied: mkl_umath in /usr/local/lib/python3.10/dist-packages (from numpy>=1.22.4->pandas->yahoo-fin) (0.1.1)\r\n",
      "Requirement already satisfied: mkl in /usr/local/lib/python3.10/dist-packages (from numpy>=1.22.4->pandas->yahoo-fin) (2025.0.1)\r\n",
      "Requirement already satisfied: tbb4py in /usr/local/lib/python3.10/dist-packages (from numpy>=1.22.4->pandas->yahoo-fin) (2022.0.0)\r\n",
      "Requirement already satisfied: mkl-service in /usr/local/lib/python3.10/dist-packages (from numpy>=1.22.4->pandas->yahoo-fin) (2.4.1)\r\n",
      "Collecting appdirs<2.0.0,>=1.4.3 (from pyppeteer>=0.0.14->requests-html->yahoo-fin)\r\n",
      "  Downloading appdirs-1.4.4-py2.py3-none-any.whl.metadata (9.0 kB)\r\n",
      "Requirement already satisfied: importlib-metadata>=1.4 in /usr/local/lib/python3.10/dist-packages (from pyppeteer>=0.0.14->requests-html->yahoo-fin) (8.5.0)\r\n",
      "Collecting pyee<12.0.0,>=11.0.0 (from pyppeteer>=0.0.14->requests-html->yahoo-fin)\r\n",
      "  Downloading pyee-11.1.1-py3-none-any.whl.metadata (2.8 kB)\r\n",
      "Requirement already satisfied: tqdm<5.0.0,>=4.42.1 in /usr/local/lib/python3.10/dist-packages (from pyppeteer>=0.0.14->requests-html->yahoo-fin) (4.67.1)\r\n",
      "Collecting urllib3<3,>=1.21.1 (from requests->yahoo-fin)\r\n",
      "  Downloading urllib3-1.26.20-py2.py3-none-any.whl.metadata (50 kB)\r\n",
      "\u001b[2K     \u001b[90m━━━━━━━━━━━━━━━━━━━━━━━━━━━━━━━━━━━━━━━━\u001b[0m \u001b[32m50.1/50.1 kB\u001b[0m \u001b[31m2.3 MB/s\u001b[0m eta \u001b[36m0:00:00\u001b[0m\r\n",
      "\u001b[?25hCollecting websockets<11.0,>=10.0 (from pyppeteer>=0.0.14->requests-html->yahoo-fin)\r\n",
      "  Downloading websockets-10.4-cp310-cp310-manylinux_2_5_x86_64.manylinux1_x86_64.manylinux_2_17_x86_64.manylinux2014_x86_64.whl.metadata (6.4 kB)\r\n",
      "Requirement already satisfied: six>=1.5 in /usr/local/lib/python3.10/dist-packages (from python-dateutil>=2.8.2->pandas->yahoo-fin) (1.17.0)\r\n",
      "Requirement already satisfied: beautifulsoup4 in /usr/local/lib/python3.10/dist-packages (from bs4->requests-html->yahoo-fin) (4.12.3)\r\n",
      "Requirement already satisfied: lxml>=2.1 in /usr/local/lib/python3.10/dist-packages (from pyquery->requests-html->yahoo-fin) (5.3.0)\r\n",
      "Collecting cssselect>=1.2.0 (from pyquery->requests-html->yahoo-fin)\r\n",
      "  Downloading cssselect-1.3.0-py3-none-any.whl.metadata (2.6 kB)\r\n",
      "Requirement already satisfied: zipp>=3.20 in /usr/local/lib/python3.10/dist-packages (from importlib-metadata>=1.4->pyppeteer>=0.0.14->requests-html->yahoo-fin) (3.21.0)\r\n",
      "Requirement already satisfied: typing-extensions in /usr/local/lib/python3.10/dist-packages (from pyee<12.0.0,>=11.0.0->pyppeteer>=0.0.14->requests-html->yahoo-fin) (4.12.2)\r\n",
      "Requirement already satisfied: soupsieve>1.2 in /usr/local/lib/python3.10/dist-packages (from beautifulsoup4->bs4->requests-html->yahoo-fin) (2.6)\r\n",
      "Requirement already satisfied: intel-openmp>=2024 in /usr/local/lib/python3.10/dist-packages (from mkl->numpy>=1.22.4->pandas->yahoo-fin) (2024.2.0)\r\n",
      "Requirement already satisfied: tbb==2022.* in /usr/local/lib/python3.10/dist-packages (from mkl->numpy>=1.22.4->pandas->yahoo-fin) (2022.0.0)\r\n",
      "Requirement already satisfied: tcmlib==1.* in /usr/local/lib/python3.10/dist-packages (from tbb==2022.*->mkl->numpy>=1.22.4->pandas->yahoo-fin) (1.2.0)\r\n",
      "Requirement already satisfied: intel-cmplr-lib-rt in /usr/local/lib/python3.10/dist-packages (from mkl_umath->numpy>=1.22.4->pandas->yahoo-fin) (2024.2.0)\r\n",
      "Requirement already satisfied: intel-cmplr-lib-ur==2024.2.0 in /usr/local/lib/python3.10/dist-packages (from intel-openmp>=2024->mkl->numpy>=1.22.4->pandas->yahoo-fin) (2024.2.0)\r\n",
      "Downloading yahoo_fin-0.8.9.1-py3-none-any.whl (10 kB)\r\n",
      "Downloading feedparser-6.0.11-py3-none-any.whl (81 kB)\r\n",
      "\u001b[2K   \u001b[90m━━━━━━━━━━━━━━━━━━━━━━━━━━━━━━━━━━━━━━━━\u001b[0m \u001b[32m81.3/81.3 kB\u001b[0m \u001b[31m7.6 MB/s\u001b[0m eta \u001b[36m0:00:00\u001b[0m\r\n",
      "\u001b[?25hDownloading requests_html-0.10.0-py3-none-any.whl (13 kB)\r\n",
      "Downloading pyppeteer-2.0.0-py3-none-any.whl (82 kB)\r\n",
      "\u001b[2K   \u001b[90m━━━━━━━━━━━━━━━━━━━━━━━━━━━━━━━━━━━━━━━━\u001b[0m \u001b[32m82.9/82.9 kB\u001b[0m \u001b[31m7.6 MB/s\u001b[0m eta \u001b[36m0:00:00\u001b[0m\r\n",
      "\u001b[?25hDownloading urllib3-1.26.20-py2.py3-none-any.whl (144 kB)\r\n",
      "\u001b[2K   \u001b[90m━━━━━━━━━━━━━━━━━━━━━━━━━━━━━━━━━━━━━━━━\u001b[0m \u001b[32m144.2/144.2 kB\u001b[0m \u001b[31m10.8 MB/s\u001b[0m eta \u001b[36m0:00:00\u001b[0m\r\n",
      "\u001b[?25hDownloading bs4-0.0.2-py2.py3-none-any.whl (1.2 kB)\r\n",
      "Downloading fake_useragent-2.0.3-py3-none-any.whl (201 kB)\r\n",
      "\u001b[2K   \u001b[90m━━━━━━━━━━━━━━━━━━━━━━━━━━━━━━━━━━━━━━━━\u001b[0m \u001b[32m201.1/201.1 kB\u001b[0m \u001b[31m16.8 MB/s\u001b[0m eta \u001b[36m0:00:00\u001b[0m\r\n",
      "\u001b[?25hDownloading parse-1.20.2-py2.py3-none-any.whl (20 kB)\r\n",
      "Downloading pyquery-2.0.1-py3-none-any.whl (22 kB)\r\n",
      "Downloading w3lib-2.3.1-py3-none-any.whl (21 kB)\r\n",
      "Downloading appdirs-1.4.4-py2.py3-none-any.whl (9.6 kB)\r\n",
      "Downloading cssselect-1.3.0-py3-none-any.whl (18 kB)\r\n",
      "Downloading pyee-11.1.1-py3-none-any.whl (15 kB)\r\n",
      "Downloading websockets-10.4-cp310-cp310-manylinux_2_5_x86_64.manylinux1_x86_64.manylinux_2_17_x86_64.manylinux2014_x86_64.whl (106 kB)\r\n",
      "\u001b[2K   \u001b[90m━━━━━━━━━━━━━━━━━━━━━━━━━━━━━━━━━━━━━━━━\u001b[0m \u001b[32m106.8/106.8 kB\u001b[0m \u001b[31m8.7 MB/s\u001b[0m eta \u001b[36m0:00:00\u001b[0m\r\n",
      "\u001b[?25hBuilding wheels for collected packages: sgmllib3k\r\n",
      "  Building wheel for sgmllib3k (setup.py) ... \u001b[?25l\u001b[?25hdone\r\n",
      "  Created wheel for sgmllib3k: filename=sgmllib3k-1.0.0-py3-none-any.whl size=6047 sha256=575996b60adca811797e1188d78d0304c6ca83aa40c216e1e34584d6ac5a90cd\r\n",
      "  Stored in directory: /root/.cache/pip/wheels/f0/69/93/a47e9d621be168e9e33c7ce60524393c0b92ae83cf6c6e89c5\r\n",
      "Successfully built sgmllib3k\r\n",
      "Installing collected packages: sgmllib3k, parse, appdirs, websockets, w3lib, urllib3, pyee, feedparser, fake-useragent, cssselect, pyquery, pyppeteer, bs4, requests-html, yahoo-fin\r\n",
      "  Attempting uninstall: websockets\r\n",
      "    Found existing installation: websockets 14.1\r\n",
      "    Uninstalling websockets-14.1:\r\n",
      "      Successfully uninstalled websockets-14.1\r\n",
      "  Attempting uninstall: urllib3\r\n",
      "    Found existing installation: urllib3 2.3.0\r\n",
      "    Uninstalling urllib3-2.3.0:\r\n",
      "      Successfully uninstalled urllib3-2.3.0\r\n",
      "\u001b[31mERROR: pip's dependency resolver does not currently take into account all the packages that are installed. This behaviour is the source of the following dependency conflicts.\r\n",
      "google-genai 0.2.2 requires websockets<15.0dev,>=13.0, but you have websockets 10.4 which is incompatible.\r\n",
      "tensorflow-decision-forests 1.10.0 requires tensorflow==2.17.0, but you have tensorflow 2.17.1 which is incompatible.\u001b[0m\u001b[31m\r\n",
      "\u001b[0mSuccessfully installed appdirs-1.4.4 bs4-0.0.2 cssselect-1.3.0 fake-useragent-2.0.3 feedparser-6.0.11 parse-1.20.2 pyee-11.1.1 pyppeteer-2.0.0 pyquery-2.0.1 requests-html-0.10.0 sgmllib3k-1.0.0 urllib3-1.26.20 w3lib-2.3.1 websockets-10.4 yahoo-fin-0.8.9.1\r\n",
      "Note: you may need to restart the kernel to use updated packages.\n"
     ]
    }
   ],
   "source": [
    "pip install yahoo-fin"
   ]
  },
  {
   "cell_type": "code",
   "execution_count": 2,
   "id": "c406be5d",
   "metadata": {
    "_kg_hide-output": true,
    "execution": {
     "iopub.execute_input": "2025-03-10T14:40:56.366299Z",
     "iopub.status.busy": "2025-03-10T14:40:56.366030Z",
     "iopub.status.idle": "2025-03-10T14:40:59.747881Z",
     "shell.execute_reply": "2025-03-10T14:40:59.746904Z"
    },
    "papermill": {
     "duration": 3.393844,
     "end_time": "2025-03-10T14:40:59.749379",
     "exception": false,
     "start_time": "2025-03-10T14:40:56.355535",
     "status": "completed"
    },
    "tags": []
   },
   "outputs": [
    {
     "name": "stdout",
     "output_type": "stream",
     "text": [
      "Requirement already satisfied: yahoo_fin in /usr/local/lib/python3.10/dist-packages (0.8.9.1)\r\n",
      "Requirement already satisfied: requests-html in /usr/local/lib/python3.10/dist-packages (from yahoo_fin) (0.10.0)\r\n",
      "Requirement already satisfied: feedparser in /usr/local/lib/python3.10/dist-packages (from yahoo_fin) (6.0.11)\r\n",
      "Requirement already satisfied: requests in /usr/local/lib/python3.10/dist-packages (from yahoo_fin) (2.32.3)\r\n",
      "Requirement already satisfied: pandas in /usr/local/lib/python3.10/dist-packages (from yahoo_fin) (2.2.3)\r\n",
      "Requirement already satisfied: sgmllib3k in /usr/local/lib/python3.10/dist-packages (from feedparser->yahoo_fin) (1.0.0)\r\n",
      "Requirement already satisfied: numpy>=1.22.4 in /usr/local/lib/python3.10/dist-packages (from pandas->yahoo_fin) (1.26.4)\r\n",
      "Requirement already satisfied: python-dateutil>=2.8.2 in /usr/local/lib/python3.10/dist-packages (from pandas->yahoo_fin) (2.9.0.post0)\r\n",
      "Requirement already satisfied: pytz>=2020.1 in /usr/local/lib/python3.10/dist-packages (from pandas->yahoo_fin) (2025.1)\r\n",
      "Requirement already satisfied: tzdata>=2022.7 in /usr/local/lib/python3.10/dist-packages (from pandas->yahoo_fin) (2025.1)\r\n",
      "Requirement already satisfied: charset-normalizer<4,>=2 in /usr/local/lib/python3.10/dist-packages (from requests->yahoo_fin) (3.4.1)\r\n",
      "Requirement already satisfied: idna<4,>=2.5 in /usr/local/lib/python3.10/dist-packages (from requests->yahoo_fin) (3.10)\r\n",
      "Requirement already satisfied: urllib3<3,>=1.21.1 in /usr/local/lib/python3.10/dist-packages (from requests->yahoo_fin) (1.26.20)\r\n",
      "Requirement already satisfied: certifi>=2017.4.17 in /usr/local/lib/python3.10/dist-packages (from requests->yahoo_fin) (2025.1.31)\r\n",
      "Requirement already satisfied: pyquery in /usr/local/lib/python3.10/dist-packages (from requests-html->yahoo_fin) (2.0.1)\r\n",
      "Requirement already satisfied: fake-useragent in /usr/local/lib/python3.10/dist-packages (from requests-html->yahoo_fin) (2.0.3)\r\n",
      "Requirement already satisfied: parse in /usr/local/lib/python3.10/dist-packages (from requests-html->yahoo_fin) (1.20.2)\r\n",
      "Requirement already satisfied: bs4 in /usr/local/lib/python3.10/dist-packages (from requests-html->yahoo_fin) (0.0.2)\r\n",
      "Requirement already satisfied: w3lib in /usr/local/lib/python3.10/dist-packages (from requests-html->yahoo_fin) (2.3.1)\r\n",
      "Requirement already satisfied: pyppeteer>=0.0.14 in /usr/local/lib/python3.10/dist-packages (from requests-html->yahoo_fin) (2.0.0)\r\n",
      "Requirement already satisfied: mkl_fft in /usr/local/lib/python3.10/dist-packages (from numpy>=1.22.4->pandas->yahoo_fin) (1.3.8)\r\n",
      "Requirement already satisfied: mkl_random in /usr/local/lib/python3.10/dist-packages (from numpy>=1.22.4->pandas->yahoo_fin) (1.2.4)\r\n",
      "Requirement already satisfied: mkl_umath in /usr/local/lib/python3.10/dist-packages (from numpy>=1.22.4->pandas->yahoo_fin) (0.1.1)\r\n",
      "Requirement already satisfied: mkl in /usr/local/lib/python3.10/dist-packages (from numpy>=1.22.4->pandas->yahoo_fin) (2025.0.1)\r\n",
      "Requirement already satisfied: tbb4py in /usr/local/lib/python3.10/dist-packages (from numpy>=1.22.4->pandas->yahoo_fin) (2022.0.0)\r\n",
      "Requirement already satisfied: mkl-service in /usr/local/lib/python3.10/dist-packages (from numpy>=1.22.4->pandas->yahoo_fin) (2.4.1)\r\n",
      "Requirement already satisfied: appdirs<2.0.0,>=1.4.3 in /usr/local/lib/python3.10/dist-packages (from pyppeteer>=0.0.14->requests-html->yahoo_fin) (1.4.4)\r\n",
      "Requirement already satisfied: importlib-metadata>=1.4 in /usr/local/lib/python3.10/dist-packages (from pyppeteer>=0.0.14->requests-html->yahoo_fin) (8.5.0)\r\n",
      "Requirement already satisfied: pyee<12.0.0,>=11.0.0 in /usr/local/lib/python3.10/dist-packages (from pyppeteer>=0.0.14->requests-html->yahoo_fin) (11.1.1)\r\n",
      "Requirement already satisfied: tqdm<5.0.0,>=4.42.1 in /usr/local/lib/python3.10/dist-packages (from pyppeteer>=0.0.14->requests-html->yahoo_fin) (4.67.1)\r\n",
      "Requirement already satisfied: websockets<11.0,>=10.0 in /usr/local/lib/python3.10/dist-packages (from pyppeteer>=0.0.14->requests-html->yahoo_fin) (10.4)\r\n",
      "Requirement already satisfied: six>=1.5 in /usr/local/lib/python3.10/dist-packages (from python-dateutil>=2.8.2->pandas->yahoo_fin) (1.17.0)\r\n",
      "Requirement already satisfied: beautifulsoup4 in /usr/local/lib/python3.10/dist-packages (from bs4->requests-html->yahoo_fin) (4.12.3)\r\n",
      "Requirement already satisfied: lxml>=2.1 in /usr/local/lib/python3.10/dist-packages (from pyquery->requests-html->yahoo_fin) (5.3.0)\r\n",
      "Requirement already satisfied: cssselect>=1.2.0 in /usr/local/lib/python3.10/dist-packages (from pyquery->requests-html->yahoo_fin) (1.3.0)\r\n",
      "Requirement already satisfied: zipp>=3.20 in /usr/local/lib/python3.10/dist-packages (from importlib-metadata>=1.4->pyppeteer>=0.0.14->requests-html->yahoo_fin) (3.21.0)\r\n",
      "Requirement already satisfied: typing-extensions in /usr/local/lib/python3.10/dist-packages (from pyee<12.0.0,>=11.0.0->pyppeteer>=0.0.14->requests-html->yahoo_fin) (4.12.2)\r\n",
      "Requirement already satisfied: soupsieve>1.2 in /usr/local/lib/python3.10/dist-packages (from beautifulsoup4->bs4->requests-html->yahoo_fin) (2.6)\r\n",
      "Requirement already satisfied: intel-openmp>=2024 in /usr/local/lib/python3.10/dist-packages (from mkl->numpy>=1.22.4->pandas->yahoo_fin) (2024.2.0)\r\n",
      "Requirement already satisfied: tbb==2022.* in /usr/local/lib/python3.10/dist-packages (from mkl->numpy>=1.22.4->pandas->yahoo_fin) (2022.0.0)\r\n",
      "Requirement already satisfied: tcmlib==1.* in /usr/local/lib/python3.10/dist-packages (from tbb==2022.*->mkl->numpy>=1.22.4->pandas->yahoo_fin) (1.2.0)\r\n",
      "Requirement already satisfied: intel-cmplr-lib-rt in /usr/local/lib/python3.10/dist-packages (from mkl_umath->numpy>=1.22.4->pandas->yahoo_fin) (2024.2.0)\r\n",
      "Requirement already satisfied: intel-cmplr-lib-ur==2024.2.0 in /usr/local/lib/python3.10/dist-packages (from intel-openmp>=2024->mkl->numpy>=1.22.4->pandas->yahoo_fin) (2024.2.0)\r\n",
      "Note: you may need to restart the kernel to use updated packages.\n"
     ]
    }
   ],
   "source": [
    "pip install --upgrade yahoo_fin"
   ]
  },
  {
   "cell_type": "code",
   "execution_count": 3,
   "id": "1e8d2d62",
   "metadata": {
    "_cell_guid": "b1076dfc-b9ad-4769-8c92-a6c4dae69d19",
    "_uuid": "8f2839f25d086af736a60e9eeb907d3b93b6e0e5",
    "execution": {
     "iopub.execute_input": "2025-03-10T14:40:59.770560Z",
     "iopub.status.busy": "2025-03-10T14:40:59.770324Z",
     "iopub.status.idle": "2025-03-10T14:41:13.412106Z",
     "shell.execute_reply": "2025-03-10T14:41:13.411190Z"
    },
    "papermill": {
     "duration": 13.653798,
     "end_time": "2025-03-10T14:41:13.413645",
     "exception": false,
     "start_time": "2025-03-10T14:40:59.759847",
     "status": "completed"
    },
    "tags": []
   },
   "outputs": [
    {
     "name": "stdout",
     "output_type": "stream",
     "text": [
      "Warning - Certain functionality \n",
      "             requires requests_html, which is not installed.\n",
      "             \n",
      "             Install using: \n",
      "             pip install requests_html\n",
      "             \n",
      "             After installation, you may have to restart your Python session.\n"
     ]
    }
   ],
   "source": [
    "import numpy as np\n",
    "import pandas as pd\n",
    "import yfinance as yf\n",
    "import seaborn as sns\n",
    "from datetime import datetime\n",
    "import matplotlib.pyplot as plt\n",
    "import yahoo_fin.stock_info as si\n",
    "from tensorflow.keras.optimizers import Adam\n",
    "from sklearn.metrics import mean_squared_error\n",
    "from sklearn.preprocessing import MinMaxScaler\n",
    "from tensorflow.keras.models import Sequential\n",
    "from tensorflow.keras.layers import LSTM, Dense, Dropout"
   ]
  },
  {
   "cell_type": "markdown",
   "id": "ba342f26",
   "metadata": {
    "papermill": {
     "duration": 0.010101,
     "end_time": "2025-03-10T14:41:13.434156",
     "exception": false,
     "start_time": "2025-03-10T14:41:13.424055",
     "status": "completed"
    },
    "tags": []
   },
   "source": [
    "### <span style=\"color: #a9af90;\">1.1 | </span><span style=\"color: #85937a\">Strugling a lot to get the Stock Info</span>"
   ]
  },
  {
   "cell_type": "code",
   "execution_count": 4,
   "id": "bf5b963d",
   "metadata": {
    "execution": {
     "iopub.execute_input": "2025-03-10T14:41:13.454901Z",
     "iopub.status.busy": "2025-03-10T14:41:13.454369Z",
     "iopub.status.idle": "2025-03-10T14:41:13.457622Z",
     "shell.execute_reply": "2025-03-10T14:41:13.457015Z"
    },
    "papermill": {
     "duration": 0.014889,
     "end_time": "2025-03-10T14:41:13.458806",
     "exception": false,
     "start_time": "2025-03-10T14:41:13.443917",
     "status": "completed"
    },
    "tags": []
   },
   "outputs": [],
   "source": [
    "# The following code didn't work correctly and I get error:\n",
    "\n",
    "\n",
    "# live_price = si.get_live_price('GOOG')\n",
    "# print('The current price is: ', live_price)\n",
    "\n",
    "# live_price_df = pd.DataFrame({'Timestamp': [datetime.now()], 'Price': [live_price]})\n",
    "# live_price_df.to_csv('live_price.csv', index=False)\n",
    "\n",
    "# start_date = '2016-01-01'\n",
    "# end_date = datetime.today().strftime('%Y-%m-%d')\n",
    "\n",
    "# historical_data = si.get_data('GOOG', start_date=start_date, end_date=end_date)\n",
    "\n",
    "# historical_data.to_csv('Google.csv')\n",
    "\n",
    "# print(historical_data)"
   ]
  },
  {
   "cell_type": "code",
   "execution_count": 5,
   "id": "489a6963",
   "metadata": {
    "execution": {
     "iopub.execute_input": "2025-03-10T14:41:13.478914Z",
     "iopub.status.busy": "2025-03-10T14:41:13.478643Z",
     "iopub.status.idle": "2025-03-10T14:41:13.990454Z",
     "shell.execute_reply": "2025-03-10T14:41:13.989639Z"
    },
    "papermill": {
     "duration": 0.523129,
     "end_time": "2025-03-10T14:41:13.991652",
     "exception": false,
     "start_time": "2025-03-10T14:41:13.468523",
     "status": "completed"
    },
    "tags": []
   },
   "outputs": [
    {
     "name": "stdout",
     "output_type": "stream",
     "text": [
      "Empty DataFrame\n",
      "Columns: [Open, High, Low, Close, Adj Close, Volume]\n",
      "Index: []\n"
     ]
    }
   ],
   "source": [
    "start_date = '2018-01-01'\n",
    "end_date = '2025-01-01'\n",
    "\n",
    "google_stock = yf.Ticker(\"GOOG\")\n",
    "historical_data = google_stock.history(start=start_date, end=end_date)\n",
    "\n",
    "historical_data.to_csv('google_stock_data.csv')\n",
    "\n",
    "print(historical_data)"
   ]
  },
  {
   "cell_type": "code",
   "execution_count": 6,
   "id": "3e673080",
   "metadata": {
    "execution": {
     "iopub.execute_input": "2025-03-10T14:41:14.012937Z",
     "iopub.status.busy": "2025-03-10T14:41:14.012670Z",
     "iopub.status.idle": "2025-03-10T14:41:14.093910Z",
     "shell.execute_reply": "2025-03-10T14:41:14.093273Z"
    },
    "papermill": {
     "duration": 0.093001,
     "end_time": "2025-03-10T14:41:14.095110",
     "exception": false,
     "start_time": "2025-03-10T14:41:14.002109",
     "status": "completed"
    },
    "tags": []
   },
   "outputs": [
    {
     "name": "stdout",
     "output_type": "stream",
     "text": [
      "Raw response: Edge: Too Many Requests\n",
      "Error: Expecting value: line 1 column 1 (char 0)\n"
     ]
    }
   ],
   "source": [
    "import requests\n",
    "\n",
    "try:\n",
    "    # This internally calls get_data which fetches data from Yahoo Finance.\n",
    "    google_price = si.get_live_price(\"GOOG\")\n",
    "    print(\"Google's stock price:\", google_price)\n",
    "except Exception as e:\n",
    "    # If an error occurs, print the raw response text for debugging\n",
    "    resp = requests.get(\"https://query1.finance.yahoo.com/v8/finance/chart/GOOG\", \n",
    "                        params={\"period1\": 0, \"period2\": int(pd.Timestamp(\"now\").timestamp()), \"interval\": \"1d\"})\n",
    "    print(\"Raw response:\", resp.text)\n",
    "    print(\"Error:\", e)"
   ]
  },
  {
   "cell_type": "code",
   "execution_count": 7,
   "id": "0d449a5a",
   "metadata": {
    "execution": {
     "iopub.execute_input": "2025-03-10T14:41:14.115495Z",
     "iopub.status.busy": "2025-03-10T14:41:14.115293Z",
     "iopub.status.idle": "2025-03-10T14:41:14.121077Z",
     "shell.execute_reply": "2025-03-10T14:41:14.120442Z"
    },
    "papermill": {
     "duration": 0.017144,
     "end_time": "2025-03-10T14:41:14.122165",
     "exception": false,
     "start_time": "2025-03-10T14:41:14.105021",
     "status": "completed"
    },
    "tags": []
   },
   "outputs": [
    {
     "name": "stdout",
     "output_type": "stream",
     "text": [
      "Empty DataFrame\n",
      "Columns: [Open, High, Low, Close, Adj Close, Volume]\n",
      "Index: []\n"
     ]
    }
   ],
   "source": [
    "import yfinance as yf\n",
    "\n",
    "goog = yf.Ticker(\"GOOG\")\n",
    "\n",
    "historical_data = goog.history(start=\"2018-01-01\", end=\"2025-01-01\")\n",
    "\n",
    "print(historical_data)"
   ]
  },
  {
   "cell_type": "code",
   "execution_count": 8,
   "id": "fe310bbc",
   "metadata": {
    "_kg_hide-output": true,
    "execution": {
     "iopub.execute_input": "2025-03-10T14:41:14.142316Z",
     "iopub.status.busy": "2025-03-10T14:41:14.142121Z",
     "iopub.status.idle": "2025-03-10T14:41:18.904144Z",
     "shell.execute_reply": "2025-03-10T14:41:18.902894Z"
    },
    "papermill": {
     "duration": 4.773698,
     "end_time": "2025-03-10T14:41:18.905641",
     "exception": false,
     "start_time": "2025-03-10T14:41:14.131943",
     "status": "completed"
    },
    "tags": []
   },
   "outputs": [
    {
     "name": "stdout",
     "output_type": "stream",
     "text": [
      "Collecting yahooquery\r\n",
      "  Downloading yahooquery-2.3.7-py3-none-any.whl.metadata (5.0 kB)\r\n",
      "Requirement already satisfied: beautifulsoup4<5.0.0,>=4.12.2 in /usr/local/lib/python3.10/dist-packages (from yahooquery) (4.12.3)\r\n",
      "Collecting lxml<5.0.0,>=4.9.3 (from yahooquery)\r\n",
      "  Downloading lxml-4.9.4-cp310-cp310-manylinux_2_28_x86_64.whl.metadata (3.7 kB)\r\n",
      "Requirement already satisfied: pandas<3.0.0,>=2.0.3 in /usr/local/lib/python3.10/dist-packages (from yahooquery) (2.2.3)\r\n",
      "Requirement already satisfied: requests<3.0.0,>=2.31.0 in /usr/local/lib/python3.10/dist-packages (from yahooquery) (2.32.3)\r\n",
      "Collecting requests-futures<2.0.0,>=1.0.1 (from yahooquery)\r\n",
      "  Downloading requests_futures-1.0.2-py2.py3-none-any.whl.metadata (12 kB)\r\n",
      "Requirement already satisfied: tqdm<5.0.0,>=4.65.0 in /usr/local/lib/python3.10/dist-packages (from yahooquery) (4.67.1)\r\n",
      "Requirement already satisfied: soupsieve>1.2 in /usr/local/lib/python3.10/dist-packages (from beautifulsoup4<5.0.0,>=4.12.2->yahooquery) (2.6)\r\n",
      "Requirement already satisfied: numpy>=1.22.4 in /usr/local/lib/python3.10/dist-packages (from pandas<3.0.0,>=2.0.3->yahooquery) (1.26.4)\r\n",
      "Requirement already satisfied: python-dateutil>=2.8.2 in /usr/local/lib/python3.10/dist-packages (from pandas<3.0.0,>=2.0.3->yahooquery) (2.9.0.post0)\r\n",
      "Requirement already satisfied: pytz>=2020.1 in /usr/local/lib/python3.10/dist-packages (from pandas<3.0.0,>=2.0.3->yahooquery) (2025.1)\r\n",
      "Requirement already satisfied: tzdata>=2022.7 in /usr/local/lib/python3.10/dist-packages (from pandas<3.0.0,>=2.0.3->yahooquery) (2025.1)\r\n",
      "Requirement already satisfied: charset-normalizer<4,>=2 in /usr/local/lib/python3.10/dist-packages (from requests<3.0.0,>=2.31.0->yahooquery) (3.4.1)\r\n",
      "Requirement already satisfied: idna<4,>=2.5 in /usr/local/lib/python3.10/dist-packages (from requests<3.0.0,>=2.31.0->yahooquery) (3.10)\r\n",
      "Requirement already satisfied: urllib3<3,>=1.21.1 in /usr/local/lib/python3.10/dist-packages (from requests<3.0.0,>=2.31.0->yahooquery) (1.26.20)\r\n",
      "Requirement already satisfied: certifi>=2017.4.17 in /usr/local/lib/python3.10/dist-packages (from requests<3.0.0,>=2.31.0->yahooquery) (2025.1.31)\r\n",
      "Requirement already satisfied: mkl_fft in /usr/local/lib/python3.10/dist-packages (from numpy>=1.22.4->pandas<3.0.0,>=2.0.3->yahooquery) (1.3.8)\r\n",
      "Requirement already satisfied: mkl_random in /usr/local/lib/python3.10/dist-packages (from numpy>=1.22.4->pandas<3.0.0,>=2.0.3->yahooquery) (1.2.4)\r\n",
      "Requirement already satisfied: mkl_umath in /usr/local/lib/python3.10/dist-packages (from numpy>=1.22.4->pandas<3.0.0,>=2.0.3->yahooquery) (0.1.1)\r\n",
      "Requirement already satisfied: mkl in /usr/local/lib/python3.10/dist-packages (from numpy>=1.22.4->pandas<3.0.0,>=2.0.3->yahooquery) (2025.0.1)\r\n",
      "Requirement already satisfied: tbb4py in /usr/local/lib/python3.10/dist-packages (from numpy>=1.22.4->pandas<3.0.0,>=2.0.3->yahooquery) (2022.0.0)\r\n",
      "Requirement already satisfied: mkl-service in /usr/local/lib/python3.10/dist-packages (from numpy>=1.22.4->pandas<3.0.0,>=2.0.3->yahooquery) (2.4.1)\r\n",
      "Requirement already satisfied: six>=1.5 in /usr/local/lib/python3.10/dist-packages (from python-dateutil>=2.8.2->pandas<3.0.0,>=2.0.3->yahooquery) (1.17.0)\r\n",
      "Requirement already satisfied: intel-openmp>=2024 in /usr/local/lib/python3.10/dist-packages (from mkl->numpy>=1.22.4->pandas<3.0.0,>=2.0.3->yahooquery) (2024.2.0)\r\n",
      "Requirement already satisfied: tbb==2022.* in /usr/local/lib/python3.10/dist-packages (from mkl->numpy>=1.22.4->pandas<3.0.0,>=2.0.3->yahooquery) (2022.0.0)\r\n",
      "Requirement already satisfied: tcmlib==1.* in /usr/local/lib/python3.10/dist-packages (from tbb==2022.*->mkl->numpy>=1.22.4->pandas<3.0.0,>=2.0.3->yahooquery) (1.2.0)\r\n",
      "Requirement already satisfied: intel-cmplr-lib-rt in /usr/local/lib/python3.10/dist-packages (from mkl_umath->numpy>=1.22.4->pandas<3.0.0,>=2.0.3->yahooquery) (2024.2.0)\r\n",
      "Requirement already satisfied: intel-cmplr-lib-ur==2024.2.0 in /usr/local/lib/python3.10/dist-packages (from intel-openmp>=2024->mkl->numpy>=1.22.4->pandas<3.0.0,>=2.0.3->yahooquery) (2024.2.0)\r\n",
      "Downloading yahooquery-2.3.7-py3-none-any.whl (52 kB)\r\n",
      "\u001b[2K   \u001b[90m━━━━━━━━━━━━━━━━━━━━━━━━━━━━━━━━━━━━━━━━\u001b[0m \u001b[32m52.7/52.7 kB\u001b[0m \u001b[31m2.4 MB/s\u001b[0m eta \u001b[36m0:00:00\u001b[0m\r\n",
      "\u001b[?25hDownloading lxml-4.9.4-cp310-cp310-manylinux_2_28_x86_64.whl (7.9 MB)\r\n",
      "\u001b[2K   \u001b[90m━━━━━━━━━━━━━━━━━━━━━━━━━━━━━━━━━━━━━━━━\u001b[0m \u001b[32m7.9/7.9 MB\u001b[0m \u001b[31m64.0 MB/s\u001b[0m eta \u001b[36m0:00:00\u001b[0m\r\n",
      "\u001b[?25hDownloading requests_futures-1.0.2-py2.py3-none-any.whl (7.7 kB)\r\n",
      "Installing collected packages: lxml, requests-futures, yahooquery\r\n",
      "  Attempting uninstall: lxml\r\n",
      "    Found existing installation: lxml 5.3.0\r\n",
      "    Uninstalling lxml-5.3.0:\r\n",
      "      Successfully uninstalled lxml-5.3.0\r\n",
      "Successfully installed lxml-4.9.4 requests-futures-1.0.2 yahooquery-2.3.7\r\n",
      "Note: you may need to restart the kernel to use updated packages.\n"
     ]
    }
   ],
   "source": [
    "pip install yahooquery"
   ]
  },
  {
   "cell_type": "code",
   "execution_count": 9,
   "id": "106e809a",
   "metadata": {
    "execution": {
     "iopub.execute_input": "2025-03-10T14:41:18.930086Z",
     "iopub.status.busy": "2025-03-10T14:41:18.929826Z",
     "iopub.status.idle": "2025-03-10T14:41:19.907552Z",
     "shell.execute_reply": "2025-03-10T14:41:19.906737Z"
    },
    "papermill": {
     "duration": 0.991389,
     "end_time": "2025-03-10T14:41:19.909079",
     "exception": false,
     "start_time": "2025-03-10T14:41:18.917690",
     "status": "completed"
    },
    "tags": []
   },
   "outputs": [
    {
     "data": {
      "text/html": [
       "<div>\n",
       "<style scoped>\n",
       "    .dataframe tbody tr th:only-of-type {\n",
       "        vertical-align: middle;\n",
       "    }\n",
       "\n",
       "    .dataframe tbody tr th {\n",
       "        vertical-align: top;\n",
       "    }\n",
       "\n",
       "    .dataframe thead th {\n",
       "        text-align: right;\n",
       "    }\n",
       "</style>\n",
       "<table border=\"1\" class=\"dataframe\">\n",
       "  <thead>\n",
       "    <tr style=\"text-align: right;\">\n",
       "      <th></th>\n",
       "      <th></th>\n",
       "      <th>open</th>\n",
       "      <th>high</th>\n",
       "      <th>low</th>\n",
       "      <th>close</th>\n",
       "      <th>volume</th>\n",
       "      <th>adjclose</th>\n",
       "      <th>dividends</th>\n",
       "      <th>splits</th>\n",
       "    </tr>\n",
       "    <tr>\n",
       "      <th>symbol</th>\n",
       "      <th>date</th>\n",
       "      <th></th>\n",
       "      <th></th>\n",
       "      <th></th>\n",
       "      <th></th>\n",
       "      <th></th>\n",
       "      <th></th>\n",
       "      <th></th>\n",
       "      <th></th>\n",
       "    </tr>\n",
       "  </thead>\n",
       "  <tbody>\n",
       "    <tr>\n",
       "      <th rowspan=\"11\" valign=\"top\">GOOG</th>\n",
       "      <th>2018-01-02</th>\n",
       "      <td>52.417000</td>\n",
       "      <td>53.347000</td>\n",
       "      <td>52.261501</td>\n",
       "      <td>53.250000</td>\n",
       "      <td>24752000</td>\n",
       "      <td>53.059353</td>\n",
       "      <td>0.0</td>\n",
       "      <td>0.0</td>\n",
       "    </tr>\n",
       "    <tr>\n",
       "      <th>2018-01-03</th>\n",
       "      <td>53.215500</td>\n",
       "      <td>54.314499</td>\n",
       "      <td>53.160500</td>\n",
       "      <td>54.124001</td>\n",
       "      <td>28604000</td>\n",
       "      <td>53.930225</td>\n",
       "      <td>0.0</td>\n",
       "      <td>0.0</td>\n",
       "    </tr>\n",
       "    <tr>\n",
       "      <th>2018-01-04</th>\n",
       "      <td>54.400002</td>\n",
       "      <td>54.678501</td>\n",
       "      <td>54.200100</td>\n",
       "      <td>54.320000</td>\n",
       "      <td>20092000</td>\n",
       "      <td>54.125523</td>\n",
       "      <td>0.0</td>\n",
       "      <td>0.0</td>\n",
       "    </tr>\n",
       "    <tr>\n",
       "      <th>2018-01-05</th>\n",
       "      <td>54.700001</td>\n",
       "      <td>55.212502</td>\n",
       "      <td>54.599998</td>\n",
       "      <td>55.111500</td>\n",
       "      <td>25582000</td>\n",
       "      <td>54.914188</td>\n",
       "      <td>0.0</td>\n",
       "      <td>0.0</td>\n",
       "    </tr>\n",
       "    <tr>\n",
       "      <th>2018-01-08</th>\n",
       "      <td>55.111500</td>\n",
       "      <td>55.563499</td>\n",
       "      <td>55.081001</td>\n",
       "      <td>55.347000</td>\n",
       "      <td>20952000</td>\n",
       "      <td>55.148846</td>\n",
       "      <td>0.0</td>\n",
       "      <td>0.0</td>\n",
       "    </tr>\n",
       "    <tr>\n",
       "      <th>...</th>\n",
       "      <td>...</td>\n",
       "      <td>...</td>\n",
       "      <td>...</td>\n",
       "      <td>...</td>\n",
       "      <td>...</td>\n",
       "      <td>...</td>\n",
       "      <td>...</td>\n",
       "      <td>...</td>\n",
       "    </tr>\n",
       "    <tr>\n",
       "      <th>2024-12-24</th>\n",
       "      <td>196.169998</td>\n",
       "      <td>197.669998</td>\n",
       "      <td>195.197998</td>\n",
       "      <td>197.570007</td>\n",
       "      <td>6809800</td>\n",
       "      <td>197.570007</td>\n",
       "      <td>0.0</td>\n",
       "      <td>0.0</td>\n",
       "    </tr>\n",
       "    <tr>\n",
       "      <th>2024-12-26</th>\n",
       "      <td>196.740005</td>\n",
       "      <td>198.160004</td>\n",
       "      <td>195.869995</td>\n",
       "      <td>197.100006</td>\n",
       "      <td>7907900</td>\n",
       "      <td>197.100006</td>\n",
       "      <td>0.0</td>\n",
       "      <td>0.0</td>\n",
       "    </tr>\n",
       "    <tr>\n",
       "      <th>2024-12-27</th>\n",
       "      <td>196.470001</td>\n",
       "      <td>196.800003</td>\n",
       "      <td>191.972000</td>\n",
       "      <td>194.039993</td>\n",
       "      <td>14693000</td>\n",
       "      <td>194.039993</td>\n",
       "      <td>0.0</td>\n",
       "      <td>0.0</td>\n",
       "    </tr>\n",
       "    <tr>\n",
       "      <th>2024-12-30</th>\n",
       "      <td>190.865005</td>\n",
       "      <td>193.779999</td>\n",
       "      <td>190.360001</td>\n",
       "      <td>192.690002</td>\n",
       "      <td>12209500</td>\n",
       "      <td>192.690002</td>\n",
       "      <td>0.0</td>\n",
       "      <td>0.0</td>\n",
       "    </tr>\n",
       "    <tr>\n",
       "      <th>2024-12-31</th>\n",
       "      <td>192.445007</td>\n",
       "      <td>193.250000</td>\n",
       "      <td>189.580002</td>\n",
       "      <td>190.440002</td>\n",
       "      <td>14355200</td>\n",
       "      <td>190.440002</td>\n",
       "      <td>0.0</td>\n",
       "      <td>0.0</td>\n",
       "    </tr>\n",
       "  </tbody>\n",
       "</table>\n",
       "<p>1761 rows × 8 columns</p>\n",
       "</div>"
      ],
      "text/plain": [
       "                         open        high         low       close    volume  \\\n",
       "symbol date                                                                   \n",
       "GOOG   2018-01-02   52.417000   53.347000   52.261501   53.250000  24752000   \n",
       "       2018-01-03   53.215500   54.314499   53.160500   54.124001  28604000   \n",
       "       2018-01-04   54.400002   54.678501   54.200100   54.320000  20092000   \n",
       "       2018-01-05   54.700001   55.212502   54.599998   55.111500  25582000   \n",
       "       2018-01-08   55.111500   55.563499   55.081001   55.347000  20952000   \n",
       "...                       ...         ...         ...         ...       ...   \n",
       "       2024-12-24  196.169998  197.669998  195.197998  197.570007   6809800   \n",
       "       2024-12-26  196.740005  198.160004  195.869995  197.100006   7907900   \n",
       "       2024-12-27  196.470001  196.800003  191.972000  194.039993  14693000   \n",
       "       2024-12-30  190.865005  193.779999  190.360001  192.690002  12209500   \n",
       "       2024-12-31  192.445007  193.250000  189.580002  190.440002  14355200   \n",
       "\n",
       "                     adjclose  dividends  splits  \n",
       "symbol date                                       \n",
       "GOOG   2018-01-02   53.059353        0.0     0.0  \n",
       "       2018-01-03   53.930225        0.0     0.0  \n",
       "       2018-01-04   54.125523        0.0     0.0  \n",
       "       2018-01-05   54.914188        0.0     0.0  \n",
       "       2018-01-08   55.148846        0.0     0.0  \n",
       "...                       ...        ...     ...  \n",
       "       2024-12-24  197.570007        0.0     0.0  \n",
       "       2024-12-26  197.100006        0.0     0.0  \n",
       "       2024-12-27  194.039993        0.0     0.0  \n",
       "       2024-12-30  192.690002        0.0     0.0  \n",
       "       2024-12-31  190.440002        0.0     0.0  \n",
       "\n",
       "[1761 rows x 8 columns]"
      ]
     },
     "execution_count": 9,
     "metadata": {},
     "output_type": "execute_result"
    }
   ],
   "source": [
    "from yahooquery import Ticker\n",
    "import warnings\n",
    "warnings.simplefilter(\"ignore\", FutureWarning)\n",
    "\n",
    "goog = Ticker(\"GOOG\")\n",
    "\n",
    "data = goog.history(start=\"2018-01-01\", end=\"2025-01-01\")\n",
    "df = pd.DataFrame(data)\n",
    "df.to_csv(\"Google_Stock_Price.csv\")\n",
    "df"
   ]
  },
  {
   "cell_type": "markdown",
   "id": "bbf729fb",
   "metadata": {
    "papermill": {
     "duration": 0.010868,
     "end_time": "2025-03-10T14:41:19.932061",
     "exception": false,
     "start_time": "2025-03-10T14:41:19.921193",
     "status": "completed"
    },
    "tags": []
   },
   "source": [
    "### <span style=\"color: #a9af90;\">1.2 | </span><span style=\"color: #85937a\">Creating Dataset for Prediction</span>"
   ]
  },
  {
   "cell_type": "code",
   "execution_count": 10,
   "id": "b8169c3f",
   "metadata": {
    "execution": {
     "iopub.execute_input": "2025-03-10T14:41:19.954757Z",
     "iopub.status.busy": "2025-03-10T14:41:19.954503Z",
     "iopub.status.idle": "2025-03-10T14:41:20.772491Z",
     "shell.execute_reply": "2025-03-10T14:41:20.771635Z"
    },
    "papermill": {
     "duration": 0.830992,
     "end_time": "2025-03-10T14:41:20.774002",
     "exception": false,
     "start_time": "2025-03-10T14:41:19.943010",
     "status": "completed"
    },
    "tags": []
   },
   "outputs": [
    {
     "data": {
      "text/html": [
       "<div>\n",
       "<style scoped>\n",
       "    .dataframe tbody tr th:only-of-type {\n",
       "        vertical-align: middle;\n",
       "    }\n",
       "\n",
       "    .dataframe tbody tr th {\n",
       "        vertical-align: top;\n",
       "    }\n",
       "\n",
       "    .dataframe thead th {\n",
       "        text-align: right;\n",
       "    }\n",
       "</style>\n",
       "<table border=\"1\" class=\"dataframe\">\n",
       "  <thead>\n",
       "    <tr style=\"text-align: right;\">\n",
       "      <th></th>\n",
       "      <th></th>\n",
       "      <th>open</th>\n",
       "      <th>high</th>\n",
       "      <th>low</th>\n",
       "      <th>close</th>\n",
       "      <th>volume</th>\n",
       "      <th>adjclose</th>\n",
       "    </tr>\n",
       "    <tr>\n",
       "      <th>symbol</th>\n",
       "      <th>date</th>\n",
       "      <th></th>\n",
       "      <th></th>\n",
       "      <th></th>\n",
       "      <th></th>\n",
       "      <th></th>\n",
       "      <th></th>\n",
       "    </tr>\n",
       "  </thead>\n",
       "  <tbody>\n",
       "    <tr>\n",
       "      <th rowspan=\"10\" valign=\"top\">GOOG</th>\n",
       "      <th>2025-01-02</th>\n",
       "      <td>191.485001</td>\n",
       "      <td>193.199997</td>\n",
       "      <td>188.710007</td>\n",
       "      <td>190.630005</td>\n",
       "      <td>17545200</td>\n",
       "      <td>190.630005</td>\n",
       "    </tr>\n",
       "    <tr>\n",
       "      <th>2025-01-03</th>\n",
       "      <td>192.725006</td>\n",
       "      <td>194.500000</td>\n",
       "      <td>191.350006</td>\n",
       "      <td>193.130005</td>\n",
       "      <td>12875000</td>\n",
       "      <td>193.130005</td>\n",
       "    </tr>\n",
       "    <tr>\n",
       "      <th>2025-01-06</th>\n",
       "      <td>195.149994</td>\n",
       "      <td>199.559998</td>\n",
       "      <td>195.059998</td>\n",
       "      <td>197.960007</td>\n",
       "      <td>19483300</td>\n",
       "      <td>197.960007</td>\n",
       "    </tr>\n",
       "    <tr>\n",
       "      <th>2025-01-07</th>\n",
       "      <td>198.270004</td>\n",
       "      <td>202.139999</td>\n",
       "      <td>195.940002</td>\n",
       "      <td>196.710007</td>\n",
       "      <td>16966800</td>\n",
       "      <td>196.710007</td>\n",
       "    </tr>\n",
       "    <tr>\n",
       "      <th>2025-01-08</th>\n",
       "      <td>193.949997</td>\n",
       "      <td>197.639999</td>\n",
       "      <td>193.750000</td>\n",
       "      <td>195.389999</td>\n",
       "      <td>14335300</td>\n",
       "      <td>195.389999</td>\n",
       "    </tr>\n",
       "    <tr>\n",
       "      <th>2025-01-10</th>\n",
       "      <td>195.419998</td>\n",
       "      <td>197.619995</td>\n",
       "      <td>191.600006</td>\n",
       "      <td>193.169998</td>\n",
       "      <td>20753800</td>\n",
       "      <td>193.169998</td>\n",
       "    </tr>\n",
       "    <tr>\n",
       "      <th>2025-01-13</th>\n",
       "      <td>191.350006</td>\n",
       "      <td>192.490005</td>\n",
       "      <td>188.660004</td>\n",
       "      <td>192.289993</td>\n",
       "      <td>13169100</td>\n",
       "      <td>192.289993</td>\n",
       "    </tr>\n",
       "    <tr>\n",
       "      <th>2025-01-14</th>\n",
       "      <td>192.500000</td>\n",
       "      <td>193.270004</td>\n",
       "      <td>189.639999</td>\n",
       "      <td>191.050003</td>\n",
       "      <td>13651200</td>\n",
       "      <td>191.050003</td>\n",
       "    </tr>\n",
       "    <tr>\n",
       "      <th>2025-01-15</th>\n",
       "      <td>194.350006</td>\n",
       "      <td>197.800003</td>\n",
       "      <td>193.330002</td>\n",
       "      <td>196.979996</td>\n",
       "      <td>12894900</td>\n",
       "      <td>196.979996</td>\n",
       "    </tr>\n",
       "    <tr>\n",
       "      <th>2025-01-16</th>\n",
       "      <td>195.824997</td>\n",
       "      <td>196.979996</td>\n",
       "      <td>194.300003</td>\n",
       "      <td>194.410004</td>\n",
       "      <td>13449600</td>\n",
       "      <td>194.410004</td>\n",
       "    </tr>\n",
       "  </tbody>\n",
       "</table>\n",
       "</div>"
      ],
      "text/plain": [
       "                         open        high         low       close    volume  \\\n",
       "symbol date                                                                   \n",
       "GOOG   2025-01-02  191.485001  193.199997  188.710007  190.630005  17545200   \n",
       "       2025-01-03  192.725006  194.500000  191.350006  193.130005  12875000   \n",
       "       2025-01-06  195.149994  199.559998  195.059998  197.960007  19483300   \n",
       "       2025-01-07  198.270004  202.139999  195.940002  196.710007  16966800   \n",
       "       2025-01-08  193.949997  197.639999  193.750000  195.389999  14335300   \n",
       "       2025-01-10  195.419998  197.619995  191.600006  193.169998  20753800   \n",
       "       2025-01-13  191.350006  192.490005  188.660004  192.289993  13169100   \n",
       "       2025-01-14  192.500000  193.270004  189.639999  191.050003  13651200   \n",
       "       2025-01-15  194.350006  197.800003  193.330002  196.979996  12894900   \n",
       "       2025-01-16  195.824997  196.979996  194.300003  194.410004  13449600   \n",
       "\n",
       "                     adjclose  \n",
       "symbol date                    \n",
       "GOOG   2025-01-02  190.630005  \n",
       "       2025-01-03  193.130005  \n",
       "       2025-01-06  197.960007  \n",
       "       2025-01-07  196.710007  \n",
       "       2025-01-08  195.389999  \n",
       "       2025-01-10  193.169998  \n",
       "       2025-01-13  192.289993  \n",
       "       2025-01-14  191.050003  \n",
       "       2025-01-15  196.979996  \n",
       "       2025-01-16  194.410004  "
      ]
     },
     "execution_count": 10,
     "metadata": {},
     "output_type": "execute_result"
    }
   ],
   "source": [
    "goog = Ticker(\"GOOG\")\n",
    "\n",
    "future_data = goog.history(start=\"2025-01-02\", end=\"2025-01-17\")\n",
    "future_df = pd.DataFrame(future_data)\n",
    "future_df.to_csv(\"Google_Future_Stock_Price.csv\")\n",
    "future_df"
   ]
  },
  {
   "cell_type": "code",
   "execution_count": 11,
   "id": "cdc755f0",
   "metadata": {
    "execution": {
     "iopub.execute_input": "2025-03-10T14:41:20.797587Z",
     "iopub.status.busy": "2025-03-10T14:41:20.797327Z",
     "iopub.status.idle": "2025-03-10T14:41:20.804468Z",
     "shell.execute_reply": "2025-03-10T14:41:20.803546Z"
    },
    "papermill": {
     "duration": 0.020144,
     "end_time": "2025-03-10T14:41:20.805699",
     "exception": false,
     "start_time": "2025-03-10T14:41:20.785555",
     "status": "completed"
    },
    "tags": []
   },
   "outputs": [
    {
     "data": {
      "text/plain": [
       "Index(['date', 'open', 'high', 'low', 'close', 'volume', 'adjclose'], dtype='object')"
      ]
     },
     "execution_count": 11,
     "metadata": {},
     "output_type": "execute_result"
    }
   ],
   "source": [
    "future_df.reset_index(inplace=True)\n",
    "future_df.drop('symbol', axis=1, inplace=True)\n",
    "future_df.columns"
   ]
  },
  {
   "cell_type": "markdown",
   "id": "a08b04d9",
   "metadata": {
    "papermill": {
     "duration": 0.010923,
     "end_time": "2025-03-10T14:41:20.827728",
     "exception": false,
     "start_time": "2025-03-10T14:41:20.816805",
     "status": "completed"
    },
    "tags": []
   },
   "source": [
    "## <span style=\"color: #a9af90\">2 | </span><span style=\"color: #586c5c\">Pre processing</span>"
   ]
  },
  {
   "cell_type": "code",
   "execution_count": 12,
   "id": "c3fc9b8c",
   "metadata": {
    "execution": {
     "iopub.execute_input": "2025-03-10T14:41:20.851174Z",
     "iopub.status.busy": "2025-03-10T14:41:20.850912Z",
     "iopub.status.idle": "2025-03-10T14:41:20.854891Z",
     "shell.execute_reply": "2025-03-10T14:41:20.854240Z"
    },
    "papermill": {
     "duration": 0.016917,
     "end_time": "2025-03-10T14:41:20.856018",
     "exception": false,
     "start_time": "2025-03-10T14:41:20.839101",
     "status": "completed"
    },
    "tags": []
   },
   "outputs": [],
   "source": [
    "# I use this code to bring the \"date\" column which is now an index into the dataset's column\n",
    "df.reset_index(inplace=True)"
   ]
  },
  {
   "cell_type": "code",
   "execution_count": 13,
   "id": "bbd2e4c5",
   "metadata": {
    "execution": {
     "iopub.execute_input": "2025-03-10T14:41:20.878941Z",
     "iopub.status.busy": "2025-03-10T14:41:20.878694Z",
     "iopub.status.idle": "2025-03-10T14:41:20.882995Z",
     "shell.execute_reply": "2025-03-10T14:41:20.882369Z"
    },
    "papermill": {
     "duration": 0.017167,
     "end_time": "2025-03-10T14:41:20.884216",
     "exception": false,
     "start_time": "2025-03-10T14:41:20.867049",
     "status": "completed"
    },
    "tags": []
   },
   "outputs": [
    {
     "data": {
      "text/plain": [
       "Index(['symbol', 'date', 'open', 'high', 'low', 'close', 'volume', 'adjclose',\n",
       "       'dividends', 'splits'],\n",
       "      dtype='object')"
      ]
     },
     "execution_count": 13,
     "metadata": {},
     "output_type": "execute_result"
    }
   ],
   "source": [
    "df.columns"
   ]
  },
  {
   "cell_type": "code",
   "execution_count": 14,
   "id": "1bfabc08",
   "metadata": {
    "execution": {
     "iopub.execute_input": "2025-03-10T14:41:20.907437Z",
     "iopub.status.busy": "2025-03-10T14:41:20.907224Z",
     "iopub.status.idle": "2025-03-10T14:41:20.912761Z",
     "shell.execute_reply": "2025-03-10T14:41:20.911882Z"
    },
    "papermill": {
     "duration": 0.018609,
     "end_time": "2025-03-10T14:41:20.914168",
     "exception": false,
     "start_time": "2025-03-10T14:41:20.895559",
     "status": "completed"
    },
    "tags": []
   },
   "outputs": [
    {
     "data": {
      "text/plain": [
       "Index(['date', 'open', 'high', 'low', 'close', 'volume', 'adjclose',\n",
       "       'dividends', 'splits'],\n",
       "      dtype='object')"
      ]
     },
     "execution_count": 14,
     "metadata": {},
     "output_type": "execute_result"
    }
   ],
   "source": [
    "# Drop the 'symbol' column\n",
    "df.drop('symbol', axis=1, inplace=True)\n",
    "df.columns"
   ]
  },
  {
   "cell_type": "code",
   "execution_count": 15,
   "id": "45db03bc",
   "metadata": {
    "execution": {
     "iopub.execute_input": "2025-03-10T14:41:20.939140Z",
     "iopub.status.busy": "2025-03-10T14:41:20.938919Z",
     "iopub.status.idle": "2025-03-10T14:41:20.949547Z",
     "shell.execute_reply": "2025-03-10T14:41:20.948699Z"
    },
    "papermill": {
     "duration": 0.023513,
     "end_time": "2025-03-10T14:41:20.950761",
     "exception": false,
     "start_time": "2025-03-10T14:41:20.927248",
     "status": "completed"
    },
    "tags": []
   },
   "outputs": [
    {
     "data": {
      "text/html": [
       "<div>\n",
       "<style scoped>\n",
       "    .dataframe tbody tr th:only-of-type {\n",
       "        vertical-align: middle;\n",
       "    }\n",
       "\n",
       "    .dataframe tbody tr th {\n",
       "        vertical-align: top;\n",
       "    }\n",
       "\n",
       "    .dataframe thead th {\n",
       "        text-align: right;\n",
       "    }\n",
       "</style>\n",
       "<table border=\"1\" class=\"dataframe\">\n",
       "  <thead>\n",
       "    <tr style=\"text-align: right;\">\n",
       "      <th></th>\n",
       "      <th>date</th>\n",
       "      <th>open</th>\n",
       "      <th>high</th>\n",
       "      <th>low</th>\n",
       "      <th>close</th>\n",
       "      <th>volume</th>\n",
       "      <th>adjclose</th>\n",
       "      <th>dividends</th>\n",
       "      <th>splits</th>\n",
       "    </tr>\n",
       "  </thead>\n",
       "  <tbody>\n",
       "    <tr>\n",
       "      <th>0</th>\n",
       "      <td>2018-01-02</td>\n",
       "      <td>52.417000</td>\n",
       "      <td>53.347000</td>\n",
       "      <td>52.261501</td>\n",
       "      <td>53.250000</td>\n",
       "      <td>24752000</td>\n",
       "      <td>53.059353</td>\n",
       "      <td>0.0</td>\n",
       "      <td>0.0</td>\n",
       "    </tr>\n",
       "    <tr>\n",
       "      <th>1</th>\n",
       "      <td>2018-01-03</td>\n",
       "      <td>53.215500</td>\n",
       "      <td>54.314499</td>\n",
       "      <td>53.160500</td>\n",
       "      <td>54.124001</td>\n",
       "      <td>28604000</td>\n",
       "      <td>53.930225</td>\n",
       "      <td>0.0</td>\n",
       "      <td>0.0</td>\n",
       "    </tr>\n",
       "    <tr>\n",
       "      <th>2</th>\n",
       "      <td>2018-01-04</td>\n",
       "      <td>54.400002</td>\n",
       "      <td>54.678501</td>\n",
       "      <td>54.200100</td>\n",
       "      <td>54.320000</td>\n",
       "      <td>20092000</td>\n",
       "      <td>54.125523</td>\n",
       "      <td>0.0</td>\n",
       "      <td>0.0</td>\n",
       "    </tr>\n",
       "    <tr>\n",
       "      <th>3</th>\n",
       "      <td>2018-01-05</td>\n",
       "      <td>54.700001</td>\n",
       "      <td>55.212502</td>\n",
       "      <td>54.599998</td>\n",
       "      <td>55.111500</td>\n",
       "      <td>25582000</td>\n",
       "      <td>54.914188</td>\n",
       "      <td>0.0</td>\n",
       "      <td>0.0</td>\n",
       "    </tr>\n",
       "    <tr>\n",
       "      <th>4</th>\n",
       "      <td>2018-01-08</td>\n",
       "      <td>55.111500</td>\n",
       "      <td>55.563499</td>\n",
       "      <td>55.081001</td>\n",
       "      <td>55.347000</td>\n",
       "      <td>20952000</td>\n",
       "      <td>55.148846</td>\n",
       "      <td>0.0</td>\n",
       "      <td>0.0</td>\n",
       "    </tr>\n",
       "  </tbody>\n",
       "</table>\n",
       "</div>"
      ],
      "text/plain": [
       "         date       open       high        low      close    volume  \\\n",
       "0  2018-01-02  52.417000  53.347000  52.261501  53.250000  24752000   \n",
       "1  2018-01-03  53.215500  54.314499  53.160500  54.124001  28604000   \n",
       "2  2018-01-04  54.400002  54.678501  54.200100  54.320000  20092000   \n",
       "3  2018-01-05  54.700001  55.212502  54.599998  55.111500  25582000   \n",
       "4  2018-01-08  55.111500  55.563499  55.081001  55.347000  20952000   \n",
       "\n",
       "    adjclose  dividends  splits  \n",
       "0  53.059353        0.0     0.0  \n",
       "1  53.930225        0.0     0.0  \n",
       "2  54.125523        0.0     0.0  \n",
       "3  54.914188        0.0     0.0  \n",
       "4  55.148846        0.0     0.0  "
      ]
     },
     "execution_count": 15,
     "metadata": {},
     "output_type": "execute_result"
    }
   ],
   "source": [
    "df.head()"
   ]
  },
  {
   "cell_type": "code",
   "execution_count": 16,
   "id": "d579d41f",
   "metadata": {
    "execution": {
     "iopub.execute_input": "2025-03-10T14:41:20.974289Z",
     "iopub.status.busy": "2025-03-10T14:41:20.974093Z",
     "iopub.status.idle": "2025-03-10T14:41:20.977467Z",
     "shell.execute_reply": "2025-03-10T14:41:20.976913Z"
    },
    "papermill": {
     "duration": 0.016486,
     "end_time": "2025-03-10T14:41:20.978674",
     "exception": false,
     "start_time": "2025-03-10T14:41:20.962188",
     "status": "completed"
    },
    "tags": []
   },
   "outputs": [],
   "source": [
    "# Convert 'date' to datetime format\n",
    "df['date'] = pd.to_datetime(df['date'])"
   ]
  },
  {
   "cell_type": "code",
   "execution_count": 17,
   "id": "5aea7031",
   "metadata": {
    "execution": {
     "iopub.execute_input": "2025-03-10T14:41:21.002604Z",
     "iopub.status.busy": "2025-03-10T14:41:21.002411Z",
     "iopub.status.idle": "2025-03-10T14:41:21.018352Z",
     "shell.execute_reply": "2025-03-10T14:41:21.017461Z"
    },
    "papermill": {
     "duration": 0.029497,
     "end_time": "2025-03-10T14:41:21.019624",
     "exception": false,
     "start_time": "2025-03-10T14:41:20.990127",
     "status": "completed"
    },
    "tags": []
   },
   "outputs": [
    {
     "name": "stdout",
     "output_type": "stream",
     "text": [
      "<class 'pandas.core.frame.DataFrame'>\n",
      "RangeIndex: 1761 entries, 0 to 1760\n",
      "Data columns (total 9 columns):\n",
      " #   Column     Non-Null Count  Dtype         \n",
      "---  ------     --------------  -----         \n",
      " 0   date       1761 non-null   datetime64[ns]\n",
      " 1   open       1761 non-null   float64       \n",
      " 2   high       1761 non-null   float64       \n",
      " 3   low        1761 non-null   float64       \n",
      " 4   close      1761 non-null   float64       \n",
      " 5   volume     1761 non-null   int64         \n",
      " 6   adjclose   1761 non-null   float64       \n",
      " 7   dividends  1761 non-null   float64       \n",
      " 8   splits     1761 non-null   float64       \n",
      "dtypes: datetime64[ns](1), float64(7), int64(1)\n",
      "memory usage: 123.9 KB\n"
     ]
    }
   ],
   "source": [
    "df.info()"
   ]
  },
  {
   "cell_type": "code",
   "execution_count": 18,
   "id": "5812f6fa",
   "metadata": {
    "execution": {
     "iopub.execute_input": "2025-03-10T14:41:21.043951Z",
     "iopub.status.busy": "2025-03-10T14:41:21.043727Z",
     "iopub.status.idle": "2025-03-10T14:41:21.048990Z",
     "shell.execute_reply": "2025-03-10T14:41:21.048368Z"
    },
    "papermill": {
     "duration": 0.018265,
     "end_time": "2025-03-10T14:41:21.050132",
     "exception": false,
     "start_time": "2025-03-10T14:41:21.031867",
     "status": "completed"
    },
    "tags": []
   },
   "outputs": [
    {
     "data": {
      "text/plain": [
       "date         0\n",
       "open         0\n",
       "high         0\n",
       "low          0\n",
       "close        0\n",
       "volume       0\n",
       "adjclose     0\n",
       "dividends    0\n",
       "splits       0\n",
       "dtype: int64"
      ]
     },
     "execution_count": 18,
     "metadata": {},
     "output_type": "execute_result"
    }
   ],
   "source": [
    "df.isnull().sum()"
   ]
  },
  {
   "cell_type": "markdown",
   "id": "3df9aaf6",
   "metadata": {
    "papermill": {
     "duration": 0.011327,
     "end_time": "2025-03-10T14:41:21.073107",
     "exception": false,
     "start_time": "2025-03-10T14:41:21.061780",
     "status": "completed"
    },
    "tags": []
   },
   "source": [
    "No missing values"
   ]
  },
  {
   "cell_type": "markdown",
   "id": "4b61f79c",
   "metadata": {
    "papermill": {
     "duration": 0.011275,
     "end_time": "2025-03-10T14:41:21.096051",
     "exception": false,
     "start_time": "2025-03-10T14:41:21.084776",
     "status": "completed"
    },
    "tags": []
   },
   "source": [
    "### <span style=\"color: #a9af90;\">2.1 | </span><span style=\"color: #85937a\">An explanation of why to use \"close\" column\n",
    "</span>"
   ]
  },
  {
   "cell_type": "markdown",
   "id": "eb80deeb",
   "metadata": {
    "papermill": {
     "duration": 0.01134,
     "end_time": "2025-03-10T14:41:21.118806",
     "exception": false,
     "start_time": "2025-03-10T14:41:21.107466",
     "status": "completed"
    },
    "tags": []
   },
   "source": [
    "### Why Am I Using the 'Close' Column?\n",
    "You might be wondering, \"Why am I focusing only on the 'close' column when we have other interesting features like 'open', 'high', 'low', 'volume', and more?\" Good question! Let me break it down.\n",
    "\n",
    "The 'close' column is commonly used for a few important reasons:\n",
    "\n",
    "1. `It's the Most Reliable Indicator`<br>\n",
    "    The closing price is the final price at which the stock was traded during normal market hours. It's considered the most accurate representation of a stock's value for that day since it's not influenced by random intraday fluctuations.\n",
    "\n",
    "2. `Standard Practice for Prediction Models`<br>\n",
    "    In time series forecasting and stock price prediction, using the 'close' price is a widely accepted approach. It provides a single, consistent target value for supervised learning, making the prediction task simpler and more interpretable.\n",
    "\n",
    "3. `Noise Reduction`<br>\n",
    "    By focusing on the closing price, we're reducing noise caused by sudden spikes or drops during the day. It gives us a cleaner and more stable signal to work with.\n",
    "\n",
    "4. `Easy Comparison of Predictions`<br>\n",
    "    When we compare our model’s predictions to real prices, it’s much simpler and more meaningful if we use the 'close' prices as our baseline. After all, it's the price most investors and analysts pay attention to when evaluating stocks.\n",
    "\n",
    "Now, does this mean other features are useless? Not at all! Using additional columns like 'open', 'high', 'low', and 'volume' can certainly enhance the model’s performance. But for simplicity and clarity, we’ll start with the 'close' price and later experiment with including other features if necessary."
   ]
  },
  {
   "cell_type": "markdown",
   "id": "695c3a61",
   "metadata": {
    "papermill": {
     "duration": 0.011269,
     "end_time": "2025-03-10T14:41:21.141566",
     "exception": false,
     "start_time": "2025-03-10T14:41:21.130297",
     "status": "completed"
    },
    "tags": []
   },
   "source": [
    "### <span style=\"color: #a9af90;\">2.2 | </span><span style=\"color: #85937a\">Plotting the closing price to visualize the trend</span>"
   ]
  },
  {
   "cell_type": "code",
   "execution_count": 19,
   "id": "329e3b97",
   "metadata": {
    "execution": {
     "iopub.execute_input": "2025-03-10T14:41:21.165185Z",
     "iopub.status.busy": "2025-03-10T14:41:21.164987Z",
     "iopub.status.idle": "2025-03-10T14:41:21.498369Z",
     "shell.execute_reply": "2025-03-10T14:41:21.497444Z"
    },
    "papermill": {
     "duration": 0.348183,
     "end_time": "2025-03-10T14:41:21.501215",
     "exception": false,
     "start_time": "2025-03-10T14:41:21.153032",
     "status": "completed"
    },
    "tags": []
   },
   "outputs": [
    {
     "data": {
      "image/png": "[encoded data removed]",
      "text/plain": [
       "<Figure size 1200x600 with 1 Axes>"
      ]
     },
     "metadata": {},
     "output_type": "display_data"
    }
   ],
   "source": [
    "plt.figure(figsize=(12, 6))\n",
    "plt.plot(df['date'], df['close'], label='Closing Price')\n",
    "plt.title('Google Stock Closing Price Over Time')\n",
    "plt.xlabel('Date')\n",
    "plt.ylabel('Close Price (USD)')\n",
    "plt.legend()\n",
    "plt.show()"
   ]
  },
  {
   "cell_type": "markdown",
   "id": "e2cf6869",
   "metadata": {
    "papermill": {
     "duration": 0.012785,
     "end_time": "2025-03-10T14:41:21.531911",
     "exception": false,
     "start_time": "2025-03-10T14:41:21.519126",
     "status": "completed"
    },
    "tags": []
   },
   "source": [
    "### <span style=\"color: #a9af90;\">2.3 | </span><span style=\"color: #85937a\">Plotting distribution of the closing prices</span>"
   ]
  },
  {
   "cell_type": "code",
   "execution_count": 20,
   "id": "0bf6d0da",
   "metadata": {
    "execution": {
     "iopub.execute_input": "2025-03-10T14:41:21.557806Z",
     "iopub.status.busy": "2025-03-10T14:41:21.557511Z",
     "iopub.status.idle": "2025-03-10T14:41:21.844536Z",
     "shell.execute_reply": "2025-03-10T14:41:21.843818Z"
    },
    "papermill": {
     "duration": 0.301754,
     "end_time": "2025-03-10T14:41:21.846188",
     "exception": false,
     "start_time": "2025-03-10T14:41:21.544434",
     "status": "completed"
    },
    "tags": []
   },
   "outputs": [
    {
     "data": {
      "image/png": "[encoded data removed]",
      "text/plain": [
       "<Figure size 1000x500 with 1 Axes>"
      ]
     },
     "metadata": {},
     "output_type": "display_data"
    }
   ],
   "source": [
    "plt.figure(figsize=(10, 5))\n",
    "sns.histplot(df['close'], bins=50, kde=True)\n",
    "plt.title('Distribution of Closing Prices')\n",
    "plt.xlabel('Close Price (USD)')\n",
    "plt.show()"
   ]
  },
  {
   "cell_type": "markdown",
   "id": "5c242114",
   "metadata": {
    "papermill": {
     "duration": 0.013172,
     "end_time": "2025-03-10T14:41:21.874080",
     "exception": false,
     "start_time": "2025-03-10T14:41:21.860908",
     "status": "completed"
    },
    "tags": []
   },
   "source": [
    "### <span style=\"color: #a9af90;\">2.4 | </span><span style=\"color: #85937a\">Normalizing the 'Close' column for LSTM processing</span>"
   ]
  },
  {
   "cell_type": "code",
   "execution_count": 21,
   "id": "f30af7ca",
   "metadata": {
    "execution": {
     "iopub.execute_input": "2025-03-10T14:41:21.901358Z",
     "iopub.status.busy": "2025-03-10T14:41:21.901125Z",
     "iopub.status.idle": "2025-03-10T14:41:21.907721Z",
     "shell.execute_reply": "2025-03-10T14:41:21.907059Z"
    },
    "papermill": {
     "duration": 0.021643,
     "end_time": "2025-03-10T14:41:21.908949",
     "exception": false,
     "start_time": "2025-03-10T14:41:21.887306",
     "status": "completed"
    },
    "tags": []
   },
   "outputs": [],
   "source": [
    "scaler = MinMaxScaler(feature_range=(0, 1))\n",
    "scaled_data = scaler.fit_transform(df[['close']])"
   ]
  },
  {
   "cell_type": "code",
   "execution_count": 22,
   "id": "6f9f999c",
   "metadata": {
    "execution": {
     "iopub.execute_input": "2025-03-10T14:41:21.936228Z",
     "iopub.status.busy": "2025-03-10T14:41:21.936015Z",
     "iopub.status.idle": "2025-03-10T14:41:21.939743Z",
     "shell.execute_reply": "2025-03-10T14:41:21.938967Z"
    },
    "papermill": {
     "duration": 0.018665,
     "end_time": "2025-03-10T14:41:21.940838",
     "exception": false,
     "start_time": "2025-03-10T14:41:21.922173",
     "status": "completed"
    },
    "tags": []
   },
   "outputs": [
    {
     "name": "stdout",
     "output_type": "stream",
     "text": [
      "Scaled Data Shape: (1761, 1)\n"
     ]
    }
   ],
   "source": [
    "print(f'Scaled Data Shape: {scaled_data.shape}')"
   ]
  },
  {
   "cell_type": "markdown",
   "id": "106fce36",
   "metadata": {
    "papermill": {
     "duration": 0.013283,
     "end_time": "2025-03-10T14:41:21.967452",
     "exception": false,
     "start_time": "2025-03-10T14:41:21.954169",
     "status": "completed"
    },
    "tags": []
   },
   "source": [
    "## <span style=\"color: #a9af90\">3 | </span><span style=\"color: #586c5c\">Creating Sequences for LSTM</span>"
   ]
  },
  {
   "cell_type": "code",
   "execution_count": 23,
   "id": "00aaeddb",
   "metadata": {
    "execution": {
     "iopub.execute_input": "2025-03-10T14:41:21.994956Z",
     "iopub.status.busy": "2025-03-10T14:41:21.994695Z",
     "iopub.status.idle": "2025-03-10T14:41:22.001730Z",
     "shell.execute_reply": "2025-03-10T14:41:22.001128Z"
    },
    "papermill": {
     "duration": 0.022177,
     "end_time": "2025-03-10T14:41:22.003026",
     "exception": false,
     "start_time": "2025-03-10T14:41:21.980849",
     "status": "completed"
    },
    "tags": []
   },
   "outputs": [],
   "source": [
    "look_back = 60\n",
    "\n",
    "def create_dataset(data, look_back=look_back):\n",
    "    X, y = [], []\n",
    "    for i in range(look_back, len(data)):\n",
    "        X.append(data[i-look_back:i, 0])\n",
    "        y.append(data[i, 0])\n",
    "    return np.array(X), np.array(y)\n",
    "\n",
    "X, y = create_dataset(scaled_data, look_back)\n",
    "X = np.reshape(X, (X.shape[0], X.shape[1], 1))\n",
    "\n",
    "split = int(len(X) * 0.8)\n",
    "X_train, X_test = X[:split], X[split:]\n",
    "y_train, y_test = y[:split], y[split:]"
   ]
  },
  {
   "cell_type": "markdown",
   "id": "e85e0a2e",
   "metadata": {
    "papermill": {
     "duration": 0.013443,
     "end_time": "2025-03-10T14:41:22.029980",
     "exception": false,
     "start_time": "2025-03-10T14:41:22.016537",
     "status": "completed"
    },
    "tags": []
   },
   "source": [
    "## <span style=\"color: #a9af90\">4 | </span><span style=\"color: #586c5c\">Build and Train Models</span>"
   ]
  },
  {
   "cell_type": "markdown",
   "id": "6ad63517",
   "metadata": {
    "papermill": {
     "duration": 0.01366,
     "end_time": "2025-03-10T14:41:22.093098",
     "exception": false,
     "start_time": "2025-03-10T14:41:22.079438",
     "status": "completed"
    },
    "tags": []
   },
   "source": [
    "### <span style=\"color: #a9af90;\">4.1 | </span><span style=\"color: #85937a\">Simple LSTM Model</span>"
   ]
  },
  {
   "cell_type": "code",
   "execution_count": 24,
   "id": "7b199789",
   "metadata": {
    "execution": {
     "iopub.execute_input": "2025-03-10T14:41:22.121292Z",
     "iopub.status.busy": "2025-03-10T14:41:22.121031Z",
     "iopub.status.idle": "2025-03-10T14:41:24.486346Z",
     "shell.execute_reply": "2025-03-10T14:41:24.485378Z"
    },
    "papermill": {
     "duration": 2.380951,
     "end_time": "2025-03-10T14:41:24.487652",
     "exception": false,
     "start_time": "2025-03-10T14:41:22.106701",
     "status": "completed"
    },
    "tags": []
   },
   "outputs": [
    {
     "name": "stderr",
     "output_type": "stream",
     "text": [
      "/usr/local/lib/python3.10/dist-packages/keras/src/layers/rnn/rnn.py:204: UserWarning: Do not pass an `input_shape`/`input_dim` argument to a layer. When using Sequential models, prefer using an `Input(shape)` object as the first layer in the model instead.\n",
      "  super().__init__(**kwargs)\n"
     ]
    },
    {
     "data": {
      "text/html": [
       "<pre style=\"white-space:pre;overflow-x:auto;line-height:normal;font-family:Menlo,'DejaVu Sans Mono',consolas,'Courier New',monospace\"><span style=\"font-weight: bold\">Model: \"sequential\"</span>\n",
       "</pre>\n"
      ],
      "text/plain": [
       "\u001b[1mModel: \"sequential\"\u001b[0m\n"
      ]
     },
     "metadata": {},
     "output_type": "display_data"
    },
    {
     "data": {
      "text/html": [
       "<pre style=\"white-space:pre;overflow-x:auto;line-height:normal;font-family:Menlo,'DejaVu Sans Mono',consolas,'Courier New',monospace\">┏━━━━━━━━━━━━━━━━━━━━━━━━━━━━━━━━━━━━━━┳━━━━━━━━━━━━━━━━━━━━━━━━━━━━━┳━━━━━━━━━━━━━━━━━┓\n",
       "┃<span style=\"font-weight: bold\"> Layer (type)                         </span>┃<span style=\"font-weight: bold\"> Output Shape                </span>┃<span style=\"font-weight: bold\">         Param # </span>┃\n",
       "┡━━━━━━━━━━━━━━━━━━━━━━━━━━━━━━━━━━━━━━╇━━━━━━━━━━━━━━━━━━━━━━━━━━━━━╇━━━━━━━━━━━━━━━━━┩\n",
       "│ lstm (<span style=\"color: #0087ff; text-decoration-color: #0087ff\">LSTM</span>)                          │ (<span style=\"color: #00d7ff; text-decoration-color: #00d7ff\">None</span>, <span style=\"color: #00af00; text-decoration-color: #00af00\">50</span>)                  │          <span style=\"color: #00af00; text-decoration-color: #00af00\">10,400</span> │\n",
       "├──────────────────────────────────────┼─────────────────────────────┼─────────────────┤\n",
       "│ dense (<span style=\"color: #0087ff; text-decoration-color: #0087ff\">Dense</span>)                        │ (<span style=\"color: #00d7ff; text-decoration-color: #00d7ff\">None</span>, <span style=\"color: #00af00; text-decoration-color: #00af00\">10</span>)                  │             <span style=\"color: #00af00; text-decoration-color: #00af00\">510</span> │\n",
       "├──────────────────────────────────────┼─────────────────────────────┼─────────────────┤\n",
       "│ dense_1 (<span style=\"color: #0087ff; text-decoration-color: #0087ff\">Dense</span>)                      │ (<span style=\"color: #00d7ff; text-decoration-color: #00d7ff\">None</span>, <span style=\"color: #00af00; text-decoration-color: #00af00\">1</span>)                   │              <span style=\"color: #00af00; text-decoration-color: #00af00\">11</span> │\n",
       "└──────────────────────────────────────┴─────────────────────────────┴─────────────────┘\n",
       "</pre>\n"
      ],
      "text/plain": [
       "┏━━━━━━━━━━━━━━━━━━━━━━━━━━━━━━━━━━━━━━┳━━━━━━━━━━━━━━━━━━━━━━━━━━━━━┳━━━━━━━━━━━━━━━━━┓\n",
       "┃\u001b[1m \u001b[0m\u001b[1mLayer (type)                        \u001b[0m\u001b[1m \u001b[0m┃\u001b[1m \u001b[0m\u001b[1mOutput Shape               \u001b[0m\u001b[1m \u001b[0m┃\u001b[1m \u001b[0m\u001b[1m        Param #\u001b[0m\u001b[1m \u001b[0m┃\n",
       "┡━━━━━━━━━━━━━━━━━━━━━━━━━━━━━━━━━━━━━━╇━━━━━━━━━━━━━━━━━━━━━━━━━━━━━╇━━━━━━━━━━━━━━━━━┩\n",
       "│ lstm (\u001b[38;5;33mLSTM\u001b[0m)                          │ (\u001b[38;5;45mNone\u001b[0m, \u001b[38;5;34m50\u001b[0m)                  │          \u001b[38;5;34m10,400\u001b[0m │\n",
       "├──────────────────────────────────────┼─────────────────────────────┼─────────────────┤\n",
       "│ dense (\u001b[38;5;33mDense\u001b[0m)                        │ (\u001b[38;5;45mNone\u001b[0m, \u001b[38;5;34m10\u001b[0m)                  │             \u001b[38;5;34m510\u001b[0m │\n",
       "├──────────────────────────────────────┼─────────────────────────────┼─────────────────┤\n",
       "│ dense_1 (\u001b[38;5;33mDense\u001b[0m)                      │ (\u001b[38;5;45mNone\u001b[0m, \u001b[38;5;34m1\u001b[0m)                   │              \u001b[38;5;34m11\u001b[0m │\n",
       "└──────────────────────────────────────┴─────────────────────────────┴─────────────────┘\n"
      ]
     },
     "metadata": {},
     "output_type": "display_data"
    },
    {
     "data": {
      "text/html": [
       "<pre style=\"white-space:pre;overflow-x:auto;line-height:normal;font-family:Menlo,'DejaVu Sans Mono',consolas,'Courier New',monospace\"><span style=\"font-weight: bold\"> Total params: </span><span style=\"color: #00af00; text-decoration-color: #00af00\">10,921</span> (42.66 KB)\n",
       "</pre>\n"
      ],
      "text/plain": [
       "\u001b[1m Total params: \u001b[0m\u001b[38;5;34m10,921\u001b[0m (42.66 KB)\n"
      ]
     },
     "metadata": {},
     "output_type": "display_data"
    },
    {
     "data": {
      "text/html": [
       "<pre style=\"white-space:pre;overflow-x:auto;line-height:normal;font-family:Menlo,'DejaVu Sans Mono',consolas,'Courier New',monospace\"><span style=\"font-weight: bold\"> Trainable params: </span><span style=\"color: #00af00; text-decoration-color: #00af00\">10,921</span> (42.66 KB)\n",
       "</pre>\n"
      ],
      "text/plain": [
       "\u001b[1m Trainable params: \u001b[0m\u001b[38;5;34m10,921\u001b[0m (42.66 KB)\n"
      ]
     },
     "metadata": {},
     "output_type": "display_data"
    },
    {
     "data": {
      "text/html": [
       "<pre style=\"white-space:pre;overflow-x:auto;line-height:normal;font-family:Menlo,'DejaVu Sans Mono',consolas,'Courier New',monospace\"><span style=\"font-weight: bold\"> Non-trainable params: </span><span style=\"color: #00af00; text-decoration-color: #00af00\">0</span> (0.00 B)\n",
       "</pre>\n"
      ],
      "text/plain": [
       "\u001b[1m Non-trainable params: \u001b[0m\u001b[38;5;34m0\u001b[0m (0.00 B)\n"
      ]
     },
     "metadata": {},
     "output_type": "display_data"
    }
   ],
   "source": [
    "simple_model = Sequential()\n",
    "simple_model.add(LSTM(50, activation='tanh', input_shape=(look_back, 1)))\n",
    "simple_model.add(Dense(10))\n",
    "simple_model.add(Dense(1))\n",
    "simple_model.compile(optimizer='adam', loss='mse')\n",
    "simple_model.summary()"
   ]
  },
  {
   "cell_type": "code",
   "execution_count": 25,
   "id": "8574632a",
   "metadata": {
    "execution": {
     "iopub.execute_input": "2025-03-10T14:41:24.521344Z",
     "iopub.status.busy": "2025-03-10T14:41:24.521097Z",
     "iopub.status.idle": "2025-03-10T14:41:46.195957Z",
     "shell.execute_reply": "2025-03-10T14:41:46.195228Z"
    },
    "papermill": {
     "duration": 21.694061,
     "end_time": "2025-03-10T14:41:46.197148",
     "exception": false,
     "start_time": "2025-03-10T14:41:24.503087",
     "status": "completed"
    },
    "tags": []
   },
   "outputs": [
    {
     "name": "stdout",
     "output_type": "stream",
     "text": [
      "Epoch 1/100\n",
      "\u001b[1m34/34\u001b[0m \u001b[32m━━━━━━━━━━━━━━━━━━━━\u001b[0m\u001b[37m\u001b[0m \u001b[1m3s\u001b[0m 29ms/step - loss: 0.0434 - val_loss: 0.0027\n",
      "Epoch 2/100\n",
      "\u001b[1m34/34\u001b[0m \u001b[32m━━━━━━━━━━━━━━━━━━━━\u001b[0m\u001b[37m\u001b[0m \u001b[1m0s\u001b[0m 6ms/step - loss: 8.8302e-04 - val_loss: 7.4122e-04\n",
      "Epoch 3/100\n",
      "\u001b[1m34/34\u001b[0m \u001b[32m━━━━━━━━━━━━━━━━━━━━\u001b[0m\u001b[37m\u001b[0m \u001b[1m0s\u001b[0m 5ms/step - loss: 3.5299e-04 - val_loss: 7.8880e-04\n",
      "Epoch 4/100\n",
      "\u001b[1m34/34\u001b[0m \u001b[32m━━━━━━━━━━━━━━━━━━━━\u001b[0m\u001b[37m\u001b[0m \u001b[1m0s\u001b[0m 5ms/step - loss: 3.8596e-04 - val_loss: 7.1155e-04\n",
      "Epoch 5/100\n",
      "\u001b[1m34/34\u001b[0m \u001b[32m━━━━━━━━━━━━━━━━━━━━\u001b[0m\u001b[37m\u001b[0m \u001b[1m0s\u001b[0m 5ms/step - loss: 3.6565e-04 - val_loss: 7.0071e-04\n",
      "Epoch 6/100\n",
      "\u001b[1m34/34\u001b[0m \u001b[32m━━━━━━━━━━━━━━━━━━━━\u001b[0m\u001b[37m\u001b[0m \u001b[1m0s\u001b[0m 5ms/step - loss: 3.5985e-04 - val_loss: 6.9288e-04\n",
      "Epoch 7/100\n",
      "\u001b[1m34/34\u001b[0m \u001b[32m━━━━━━━━━━━━━━━━━━━━\u001b[0m\u001b[37m\u001b[0m \u001b[1m0s\u001b[0m 5ms/step - loss: 3.0382e-04 - val_loss: 6.7878e-04\n",
      "Epoch 8/100\n",
      "\u001b[1m34/34\u001b[0m \u001b[32m━━━━━━━━━━━━━━━━━━━━\u001b[0m\u001b[37m\u001b[0m \u001b[1m0s\u001b[0m 5ms/step - loss: 3.2839e-04 - val_loss: 6.6977e-04\n",
      "Epoch 9/100\n",
      "\u001b[1m34/34\u001b[0m \u001b[32m━━━━━━━━━━━━━━━━━━━━\u001b[0m\u001b[37m\u001b[0m \u001b[1m0s\u001b[0m 5ms/step - loss: 3.2163e-04 - val_loss: 6.7010e-04\n",
      "Epoch 10/100\n",
      "\u001b[1m34/34\u001b[0m \u001b[32m━━━━━━━━━━━━━━━━━━━━\u001b[0m\u001b[37m\u001b[0m \u001b[1m0s\u001b[0m 5ms/step - loss: 3.1062e-04 - val_loss: 6.5848e-04\n",
      "Epoch 11/100\n",
      "\u001b[1m34/34\u001b[0m \u001b[32m━━━━━━━━━━━━━━━━━━━━\u001b[0m\u001b[37m\u001b[0m \u001b[1m0s\u001b[0m 5ms/step - loss: 3.4647e-04 - val_loss: 6.5169e-04\n",
      "Epoch 12/100\n",
      "\u001b[1m34/34\u001b[0m \u001b[32m━━━━━━━━━━━━━━━━━━━━\u001b[0m\u001b[37m\u001b[0m \u001b[1m0s\u001b[0m 5ms/step - loss: 3.5474e-04 - val_loss: 6.3020e-04\n",
      "Epoch 13/100\n",
      "\u001b[1m34/34\u001b[0m \u001b[32m━━━━━━━━━━━━━━━━━━━━\u001b[0m\u001b[37m\u001b[0m \u001b[1m0s\u001b[0m 5ms/step - loss: 2.7864e-04 - val_loss: 6.5364e-04\n",
      "Epoch 14/100\n",
      "\u001b[1m34/34\u001b[0m \u001b[32m━━━━━━━━━━━━━━━━━━━━\u001b[0m\u001b[37m\u001b[0m \u001b[1m0s\u001b[0m 5ms/step - loss: 3.2501e-04 - val_loss: 6.1096e-04\n",
      "Epoch 15/100\n",
      "\u001b[1m34/34\u001b[0m \u001b[32m━━━━━━━━━━━━━━━━━━━━\u001b[0m\u001b[37m\u001b[0m \u001b[1m0s\u001b[0m 5ms/step - loss: 2.9257e-04 - val_loss: 6.0117e-04\n",
      "Epoch 16/100\n",
      "\u001b[1m34/34\u001b[0m \u001b[32m━━━━━━━━━━━━━━━━━━━━\u001b[0m\u001b[37m\u001b[0m \u001b[1m0s\u001b[0m 5ms/step - loss: 3.3594e-04 - val_loss: 6.3001e-04\n",
      "Epoch 17/100\n",
      "\u001b[1m34/34\u001b[0m \u001b[32m━━━━━━━━━━━━━━━━━━━━\u001b[0m\u001b[37m\u001b[0m \u001b[1m0s\u001b[0m 5ms/step - loss: 3.1215e-04 - val_loss: 5.8711e-04\n",
      "Epoch 18/100\n",
      "\u001b[1m34/34\u001b[0m \u001b[32m━━━━━━━━━━━━━━━━━━━━\u001b[0m\u001b[37m\u001b[0m \u001b[1m0s\u001b[0m 5ms/step - loss: 2.5733e-04 - val_loss: 5.7492e-04\n",
      "Epoch 19/100\n",
      "\u001b[1m34/34\u001b[0m \u001b[32m━━━━━━━━━━━━━━━━━━━━\u001b[0m\u001b[37m\u001b[0m \u001b[1m0s\u001b[0m 5ms/step - loss: 2.8861e-04 - val_loss: 6.0509e-04\n",
      "Epoch 20/100\n",
      "\u001b[1m34/34\u001b[0m \u001b[32m━━━━━━━━━━━━━━━━━━━━\u001b[0m\u001b[37m\u001b[0m \u001b[1m0s\u001b[0m 5ms/step - loss: 2.5945e-04 - val_loss: 6.0077e-04\n",
      "Epoch 21/100\n",
      "\u001b[1m34/34\u001b[0m \u001b[32m━━━━━━━━━━━━━━━━━━━━\u001b[0m\u001b[37m\u001b[0m \u001b[1m0s\u001b[0m 5ms/step - loss: 2.5913e-04 - val_loss: 5.4926e-04\n",
      "Epoch 22/100\n",
      "\u001b[1m34/34\u001b[0m \u001b[32m━━━━━━━━━━━━━━━━━━━━\u001b[0m\u001b[37m\u001b[0m \u001b[1m0s\u001b[0m 5ms/step - loss: 2.9452e-04 - val_loss: 5.4129e-04\n",
      "Epoch 23/100\n",
      "\u001b[1m34/34\u001b[0m \u001b[32m━━━━━━━━━━━━━━━━━━━━\u001b[0m\u001b[37m\u001b[0m \u001b[1m0s\u001b[0m 5ms/step - loss: 2.5275e-04 - val_loss: 5.3412e-04\n",
      "Epoch 24/100\n",
      "\u001b[1m34/34\u001b[0m \u001b[32m━━━━━━━━━━━━━━━━━━━━\u001b[0m\u001b[37m\u001b[0m \u001b[1m0s\u001b[0m 5ms/step - loss: 2.6136e-04 - val_loss: 5.7245e-04\n",
      "Epoch 25/100\n",
      "\u001b[1m34/34\u001b[0m \u001b[32m━━━━━━━━━━━━━━━━━━━━\u001b[0m\u001b[37m\u001b[0m \u001b[1m0s\u001b[0m 5ms/step - loss: 2.6123e-04 - val_loss: 5.1921e-04\n",
      "Epoch 26/100\n",
      "\u001b[1m34/34\u001b[0m \u001b[32m━━━━━━━━━━━━━━━━━━━━\u001b[0m\u001b[37m\u001b[0m \u001b[1m0s\u001b[0m 5ms/step - loss: 2.4101e-04 - val_loss: 5.2163e-04\n",
      "Epoch 27/100\n",
      "\u001b[1m34/34\u001b[0m \u001b[32m━━━━━━━━━━━━━━━━━━━━\u001b[0m\u001b[37m\u001b[0m \u001b[1m0s\u001b[0m 5ms/step - loss: 2.7742e-04 - val_loss: 5.0942e-04\n",
      "Epoch 28/100\n",
      "\u001b[1m34/34\u001b[0m \u001b[32m━━━━━━━━━━━━━━━━━━━━\u001b[0m\u001b[37m\u001b[0m \u001b[1m0s\u001b[0m 5ms/step - loss: 2.6129e-04 - val_loss: 5.5153e-04\n",
      "Epoch 29/100\n",
      "\u001b[1m34/34\u001b[0m \u001b[32m━━━━━━━━━━━━━━━━━━━━\u001b[0m\u001b[37m\u001b[0m \u001b[1m0s\u001b[0m 5ms/step - loss: 2.2451e-04 - val_loss: 5.0573e-04\n",
      "Epoch 30/100\n",
      "\u001b[1m34/34\u001b[0m \u001b[32m━━━━━━━━━━━━━━━━━━━━\u001b[0m\u001b[37m\u001b[0m \u001b[1m0s\u001b[0m 5ms/step - loss: 2.7706e-04 - val_loss: 4.9520e-04\n",
      "Epoch 31/100\n",
      "\u001b[1m34/34\u001b[0m \u001b[32m━━━━━━━━━━━━━━━━━━━━\u001b[0m\u001b[37m\u001b[0m \u001b[1m0s\u001b[0m 5ms/step - loss: 2.4754e-04 - val_loss: 5.2457e-04\n",
      "Epoch 32/100\n",
      "\u001b[1m34/34\u001b[0m \u001b[32m━━━━━━━━━━━━━━━━━━━━\u001b[0m\u001b[37m\u001b[0m \u001b[1m0s\u001b[0m 5ms/step - loss: 2.3865e-04 - val_loss: 4.8901e-04\n",
      "Epoch 33/100\n",
      "\u001b[1m34/34\u001b[0m \u001b[32m━━━━━━━━━━━━━━━━━━━━\u001b[0m\u001b[37m\u001b[0m \u001b[1m0s\u001b[0m 5ms/step - loss: 2.2818e-04 - val_loss: 4.7248e-04\n",
      "Epoch 34/100\n",
      "\u001b[1m34/34\u001b[0m \u001b[32m━━━━━━━━━━━━━━━━━━━━\u001b[0m\u001b[37m\u001b[0m \u001b[1m0s\u001b[0m 5ms/step - loss: 2.2600e-04 - val_loss: 5.2610e-04\n",
      "Epoch 35/100\n",
      "\u001b[1m34/34\u001b[0m \u001b[32m━━━━━━━━━━━━━━━━━━━━\u001b[0m\u001b[37m\u001b[0m \u001b[1m0s\u001b[0m 5ms/step - loss: 1.9138e-04 - val_loss: 5.4863e-04\n",
      "Epoch 36/100\n",
      "\u001b[1m34/34\u001b[0m \u001b[32m━━━━━━━━━━━━━━━━━━━━\u001b[0m\u001b[37m\u001b[0m \u001b[1m0s\u001b[0m 5ms/step - loss: 2.5801e-04 - val_loss: 4.8598e-04\n",
      "Epoch 37/100\n",
      "\u001b[1m34/34\u001b[0m \u001b[32m━━━━━━━━━━━━━━━━━━━━\u001b[0m\u001b[37m\u001b[0m \u001b[1m0s\u001b[0m 5ms/step - loss: 2.1968e-04 - val_loss: 5.4033e-04\n",
      "Epoch 38/100\n",
      "\u001b[1m34/34\u001b[0m \u001b[32m━━━━━━━━━━━━━━━━━━━━\u001b[0m\u001b[37m\u001b[0m \u001b[1m0s\u001b[0m 5ms/step - loss: 2.4081e-04 - val_loss: 4.4279e-04\n",
      "Epoch 39/100\n",
      "\u001b[1m34/34\u001b[0m \u001b[32m━━━━━━━━━━━━━━━━━━━━\u001b[0m\u001b[37m\u001b[0m \u001b[1m0s\u001b[0m 5ms/step - loss: 2.2118e-04 - val_loss: 4.3892e-04\n",
      "Epoch 40/100\n",
      "\u001b[1m34/34\u001b[0m \u001b[32m━━━━━━━━━━━━━━━━━━━━\u001b[0m\u001b[37m\u001b[0m \u001b[1m0s\u001b[0m 5ms/step - loss: 2.2602e-04 - val_loss: 4.3428e-04\n",
      "Epoch 41/100\n",
      "\u001b[1m34/34\u001b[0m \u001b[32m━━━━━━━━━━━━━━━━━━━━\u001b[0m\u001b[37m\u001b[0m \u001b[1m0s\u001b[0m 5ms/step - loss: 2.2699e-04 - val_loss: 4.4297e-04\n",
      "Epoch 42/100\n",
      "\u001b[1m34/34\u001b[0m \u001b[32m━━━━━━━━━━━━━━━━━━━━\u001b[0m\u001b[37m\u001b[0m \u001b[1m0s\u001b[0m 5ms/step - loss: 2.6545e-04 - val_loss: 4.2794e-04\n",
      "Epoch 43/100\n",
      "\u001b[1m34/34\u001b[0m \u001b[32m━━━━━━━━━━━━━━━━━━━━\u001b[0m\u001b[37m\u001b[0m \u001b[1m0s\u001b[0m 5ms/step - loss: 2.5878e-04 - val_loss: 4.2582e-04\n",
      "Epoch 44/100\n",
      "\u001b[1m34/34\u001b[0m \u001b[32m━━━━━━━━━━━━━━━━━━━━\u001b[0m\u001b[37m\u001b[0m \u001b[1m0s\u001b[0m 5ms/step - loss: 2.1338e-04 - val_loss: 4.2019e-04\n",
      "Epoch 45/100\n",
      "\u001b[1m34/34\u001b[0m \u001b[32m━━━━━━━━━━━━━━━━━━━━\u001b[0m\u001b[37m\u001b[0m \u001b[1m0s\u001b[0m 5ms/step - loss: 2.3145e-04 - val_loss: 4.7557e-04\n",
      "Epoch 46/100\n",
      "\u001b[1m34/34\u001b[0m \u001b[32m━━━━━━━━━━━━━━━━━━━━\u001b[0m\u001b[37m\u001b[0m \u001b[1m0s\u001b[0m 5ms/step - loss: 2.4948e-04 - val_loss: 4.2447e-04\n",
      "Epoch 47/100\n",
      "\u001b[1m34/34\u001b[0m \u001b[32m━━━━━━━━━━━━━━━━━━━━\u001b[0m\u001b[37m\u001b[0m \u001b[1m0s\u001b[0m 5ms/step - loss: 1.9186e-04 - val_loss: 4.1077e-04\n",
      "Epoch 48/100\n",
      "\u001b[1m34/34\u001b[0m \u001b[32m━━━━━━━━━━━━━━━━━━━━\u001b[0m\u001b[37m\u001b[0m \u001b[1m0s\u001b[0m 5ms/step - loss: 2.0129e-04 - val_loss: 4.0695e-04\n",
      "Epoch 49/100\n",
      "\u001b[1m34/34\u001b[0m \u001b[32m━━━━━━━━━━━━━━━━━━━━\u001b[0m\u001b[37m\u001b[0m \u001b[1m0s\u001b[0m 5ms/step - loss: 1.9207e-04 - val_loss: 4.1744e-04\n",
      "Epoch 50/100\n",
      "\u001b[1m34/34\u001b[0m \u001b[32m━━━━━━━━━━━━━━━━━━━━\u001b[0m\u001b[37m\u001b[0m \u001b[1m0s\u001b[0m 5ms/step - loss: 2.3799e-04 - val_loss: 4.0176e-04\n",
      "Epoch 51/100\n",
      "\u001b[1m34/34\u001b[0m \u001b[32m━━━━━━━━━━━━━━━━━━━━\u001b[0m\u001b[37m\u001b[0m \u001b[1m0s\u001b[0m 5ms/step - loss: 1.9128e-04 - val_loss: 3.9399e-04\n",
      "Epoch 52/100\n",
      "\u001b[1m34/34\u001b[0m \u001b[32m━━━━━━━━━━━━━━━━━━━━\u001b[0m\u001b[37m\u001b[0m \u001b[1m0s\u001b[0m 5ms/step - loss: 2.1517e-04 - val_loss: 4.0125e-04\n",
      "Epoch 53/100\n",
      "\u001b[1m34/34\u001b[0m \u001b[32m━━━━━━━━━━━━━━━━━━━━\u001b[0m\u001b[37m\u001b[0m \u001b[1m0s\u001b[0m 5ms/step - loss: 1.9107e-04 - val_loss: 4.1286e-04\n",
      "Epoch 54/100\n",
      "\u001b[1m34/34\u001b[0m \u001b[32m━━━━━━━━━━━━━━━━━━━━\u001b[0m\u001b[37m\u001b[0m \u001b[1m0s\u001b[0m 5ms/step - loss: 2.0550e-04 - val_loss: 3.8330e-04\n",
      "Epoch 55/100\n",
      "\u001b[1m34/34\u001b[0m \u001b[32m━━━━━━━━━━━━━━━━━━━━\u001b[0m\u001b[37m\u001b[0m \u001b[1m0s\u001b[0m 5ms/step - loss: 1.9307e-04 - val_loss: 3.8606e-04\n",
      "Epoch 56/100\n",
      "\u001b[1m34/34\u001b[0m \u001b[32m━━━━━━━━━━━━━━━━━━━━\u001b[0m\u001b[37m\u001b[0m \u001b[1m0s\u001b[0m 5ms/step - loss: 1.9584e-04 - val_loss: 3.7703e-04\n",
      "Epoch 57/100\n",
      "\u001b[1m34/34\u001b[0m \u001b[32m━━━━━━━━━━━━━━━━━━━━\u001b[0m\u001b[37m\u001b[0m \u001b[1m0s\u001b[0m 5ms/step - loss: 1.8548e-04 - val_loss: 3.9225e-04\n",
      "Epoch 58/100\n",
      "\u001b[1m34/34\u001b[0m \u001b[32m━━━━━━━━━━━━━━━━━━━━\u001b[0m\u001b[37m\u001b[0m \u001b[1m0s\u001b[0m 5ms/step - loss: 2.1365e-04 - val_loss: 3.7412e-04\n",
      "Epoch 59/100\n",
      "\u001b[1m34/34\u001b[0m \u001b[32m━━━━━━━━━━━━━━━━━━━━\u001b[0m\u001b[37m\u001b[0m \u001b[1m0s\u001b[0m 5ms/step - loss: 1.7496e-04 - val_loss: 4.1467e-04\n",
      "Epoch 60/100\n",
      "\u001b[1m34/34\u001b[0m \u001b[32m━━━━━━━━━━━━━━━━━━━━\u001b[0m\u001b[37m\u001b[0m \u001b[1m0s\u001b[0m 5ms/step - loss: 1.9294e-04 - val_loss: 3.6689e-04\n",
      "Epoch 61/100\n",
      "\u001b[1m34/34\u001b[0m \u001b[32m━━━━━━━━━━━━━━━━━━━━\u001b[0m\u001b[37m\u001b[0m \u001b[1m0s\u001b[0m 5ms/step - loss: 1.9635e-04 - val_loss: 3.6324e-04\n",
      "Epoch 62/100\n",
      "\u001b[1m34/34\u001b[0m \u001b[32m━━━━━━━━━━━━━━━━━━━━\u001b[0m\u001b[37m\u001b[0m \u001b[1m0s\u001b[0m 5ms/step - loss: 1.9499e-04 - val_loss: 3.7438e-04\n",
      "Epoch 63/100\n",
      "\u001b[1m34/34\u001b[0m \u001b[32m━━━━━━━━━━━━━━━━━━━━\u001b[0m\u001b[37m\u001b[0m \u001b[1m0s\u001b[0m 5ms/step - loss: 1.8424e-04 - val_loss: 3.5671e-04\n",
      "Epoch 64/100\n",
      "\u001b[1m34/34\u001b[0m \u001b[32m━━━━━━━━━━━━━━━━━━━━\u001b[0m\u001b[37m\u001b[0m \u001b[1m0s\u001b[0m 5ms/step - loss: 1.7675e-04 - val_loss: 3.5580e-04\n",
      "Epoch 65/100\n",
      "\u001b[1m34/34\u001b[0m \u001b[32m━━━━━━━━━━━━━━━━━━━━\u001b[0m\u001b[37m\u001b[0m \u001b[1m0s\u001b[0m 5ms/step - loss: 2.3864e-04 - val_loss: 3.5267e-04\n",
      "Epoch 66/100\n",
      "\u001b[1m34/34\u001b[0m \u001b[32m━━━━━━━━━━━━━━━━━━━━\u001b[0m\u001b[37m\u001b[0m \u001b[1m0s\u001b[0m 5ms/step - loss: 1.7856e-04 - val_loss: 3.4984e-04\n",
      "Epoch 67/100\n",
      "\u001b[1m34/34\u001b[0m \u001b[32m━━━━━━━━━━━━━━━━━━━━\u001b[0m\u001b[37m\u001b[0m \u001b[1m0s\u001b[0m 5ms/step - loss: 1.9358e-04 - val_loss: 4.1190e-04\n",
      "Epoch 68/100\n",
      "\u001b[1m34/34\u001b[0m \u001b[32m━━━━━━━━━━━━━━━━━━━━\u001b[0m\u001b[37m\u001b[0m \u001b[1m0s\u001b[0m 5ms/step - loss: 2.3597e-04 - val_loss: 3.5100e-04\n",
      "Epoch 69/100\n",
      "\u001b[1m34/34\u001b[0m \u001b[32m━━━━━━━━━━━━━━━━━━━━\u001b[0m\u001b[37m\u001b[0m \u001b[1m0s\u001b[0m 5ms/step - loss: 1.7798e-04 - val_loss: 3.4388e-04\n",
      "Epoch 70/100\n",
      "\u001b[1m34/34\u001b[0m \u001b[32m━━━━━━━━━━━━━━━━━━━━\u001b[0m\u001b[37m\u001b[0m \u001b[1m0s\u001b[0m 5ms/step - loss: 1.8828e-04 - val_loss: 3.7902e-04\n",
      "Epoch 71/100\n",
      "\u001b[1m34/34\u001b[0m \u001b[32m━━━━━━━━━━━━━━━━━━━━\u001b[0m\u001b[37m\u001b[0m \u001b[1m0s\u001b[0m 5ms/step - loss: 1.9199e-04 - val_loss: 4.1404e-04\n",
      "Epoch 72/100\n",
      "\u001b[1m34/34\u001b[0m \u001b[32m━━━━━━━━━━━━━━━━━━━━\u001b[0m\u001b[37m\u001b[0m \u001b[1m0s\u001b[0m 5ms/step - loss: 1.8305e-04 - val_loss: 3.3876e-04\n",
      "Epoch 73/100\n",
      "\u001b[1m34/34\u001b[0m \u001b[32m━━━━━━━━━━━━━━━━━━━━\u001b[0m\u001b[37m\u001b[0m \u001b[1m0s\u001b[0m 5ms/step - loss: 1.7874e-04 - val_loss: 3.3687e-04\n",
      "Epoch 74/100\n",
      "\u001b[1m34/34\u001b[0m \u001b[32m━━━━━━━━━━━━━━━━━━━━\u001b[0m\u001b[37m\u001b[0m \u001b[1m0s\u001b[0m 5ms/step - loss: 1.7752e-04 - val_loss: 3.3026e-04\n",
      "Epoch 75/100\n",
      "\u001b[1m34/34\u001b[0m \u001b[32m━━━━━━━━━━━━━━━━━━━━\u001b[0m\u001b[37m\u001b[0m \u001b[1m0s\u001b[0m 5ms/step - loss: 1.7775e-04 - val_loss: 3.3034e-04\n",
      "Epoch 76/100\n",
      "\u001b[1m34/34\u001b[0m \u001b[32m━━━━━━━━━━━━━━━━━━━━\u001b[0m\u001b[37m\u001b[0m \u001b[1m0s\u001b[0m 6ms/step - loss: 1.7125e-04 - val_loss: 3.6016e-04\n",
      "Epoch 77/100\n",
      "\u001b[1m34/34\u001b[0m \u001b[32m━━━━━━━━━━━━━━━━━━━━\u001b[0m\u001b[37m\u001b[0m \u001b[1m0s\u001b[0m 5ms/step - loss: 1.7803e-04 - val_loss: 3.3144e-04\n",
      "Epoch 78/100\n",
      "\u001b[1m34/34\u001b[0m \u001b[32m━━━━━━━━━━━━━━━━━━━━\u001b[0m\u001b[37m\u001b[0m \u001b[1m0s\u001b[0m 5ms/step - loss: 1.6826e-04 - val_loss: 3.7230e-04\n",
      "Epoch 79/100\n",
      "\u001b[1m34/34\u001b[0m \u001b[32m━━━━━━━━━━━━━━━━━━━━\u001b[0m\u001b[37m\u001b[0m \u001b[1m0s\u001b[0m 5ms/step - loss: 1.8897e-04 - val_loss: 3.2313e-04\n",
      "Epoch 80/100\n",
      "\u001b[1m34/34\u001b[0m \u001b[32m━━━━━━━━━━━━━━━━━━━━\u001b[0m\u001b[37m\u001b[0m \u001b[1m0s\u001b[0m 5ms/step - loss: 1.8819e-04 - val_loss: 3.1921e-04\n",
      "Epoch 81/100\n",
      "\u001b[1m34/34\u001b[0m \u001b[32m━━━━━━━━━━━━━━━━━━━━\u001b[0m\u001b[37m\u001b[0m \u001b[1m0s\u001b[0m 5ms/step - loss: 1.7168e-04 - val_loss: 3.1621e-04\n",
      "Epoch 82/100\n",
      "\u001b[1m34/34\u001b[0m \u001b[32m━━━━━━━━━━━━━━━━━━━━\u001b[0m\u001b[37m\u001b[0m \u001b[1m0s\u001b[0m 5ms/step - loss: 1.4868e-04 - val_loss: 3.1825e-04\n",
      "Epoch 83/100\n",
      "\u001b[1m34/34\u001b[0m \u001b[32m━━━━━━━━━━━━━━━━━━━━\u001b[0m\u001b[37m\u001b[0m \u001b[1m0s\u001b[0m 5ms/step - loss: 1.5939e-04 - val_loss: 3.1810e-04\n",
      "Epoch 84/100\n",
      "\u001b[1m34/34\u001b[0m \u001b[32m━━━━━━━━━━━━━━━━━━━━\u001b[0m\u001b[37m\u001b[0m \u001b[1m0s\u001b[0m 5ms/step - loss: 1.5365e-04 - val_loss: 3.1054e-04\n",
      "Epoch 85/100\n",
      "\u001b[1m34/34\u001b[0m \u001b[32m━━━━━━━━━━━━━━━━━━━━\u001b[0m\u001b[37m\u001b[0m \u001b[1m0s\u001b[0m 5ms/step - loss: 1.6503e-04 - val_loss: 4.3221e-04\n",
      "Epoch 86/100\n",
      "\u001b[1m34/34\u001b[0m \u001b[32m━━━━━━━━━━━━━━━━━━━━\u001b[0m\u001b[37m\u001b[0m \u001b[1m0s\u001b[0m 5ms/step - loss: 2.0534e-04 - val_loss: 3.0550e-04\n",
      "Epoch 87/100\n",
      "\u001b[1m34/34\u001b[0m \u001b[32m━━━━━━━━━━━━━━━━━━━━\u001b[0m\u001b[37m\u001b[0m \u001b[1m0s\u001b[0m 5ms/step - loss: 1.4950e-04 - val_loss: 3.0598e-04\n",
      "Epoch 88/100\n",
      "\u001b[1m34/34\u001b[0m \u001b[32m━━━━━━━━━━━━━━━━━━━━\u001b[0m\u001b[37m\u001b[0m \u001b[1m0s\u001b[0m 5ms/step - loss: 1.7558e-04 - val_loss: 3.0442e-04\n",
      "Epoch 89/100\n",
      "\u001b[1m34/34\u001b[0m \u001b[32m━━━━━━━━━━━━━━━━━━━━\u001b[0m\u001b[37m\u001b[0m \u001b[1m0s\u001b[0m 5ms/step - loss: 1.5054e-04 - val_loss: 2.9858e-04\n",
      "Epoch 90/100\n",
      "\u001b[1m34/34\u001b[0m \u001b[32m━━━━━━━━━━━━━━━━━━━━\u001b[0m\u001b[37m\u001b[0m \u001b[1m0s\u001b[0m 5ms/step - loss: 1.5536e-04 - val_loss: 3.0259e-04\n",
      "Epoch 91/100\n",
      "\u001b[1m34/34\u001b[0m \u001b[32m━━━━━━━━━━━━━━━━━━━━\u001b[0m\u001b[37m\u001b[0m \u001b[1m0s\u001b[0m 5ms/step - loss: 1.4749e-04 - val_loss: 2.9280e-04\n",
      "Epoch 92/100\n",
      "\u001b[1m34/34\u001b[0m \u001b[32m━━━━━━━━━━━━━━━━━━━━\u001b[0m\u001b[37m\u001b[0m \u001b[1m0s\u001b[0m 5ms/step - loss: 1.5946e-04 - val_loss: 3.4330e-04\n",
      "Epoch 93/100\n",
      "\u001b[1m34/34\u001b[0m \u001b[32m━━━━━━━━━━━━━━━━━━━━\u001b[0m\u001b[37m\u001b[0m \u001b[1m0s\u001b[0m 5ms/step - loss: 1.9040e-04 - val_loss: 2.9955e-04\n",
      "Epoch 94/100\n",
      "\u001b[1m34/34\u001b[0m \u001b[32m━━━━━━━━━━━━━━━━━━━━\u001b[0m\u001b[37m\u001b[0m \u001b[1m0s\u001b[0m 5ms/step - loss: 1.5459e-04 - val_loss: 2.8924e-04\n",
      "Epoch 95/100\n",
      "\u001b[1m34/34\u001b[0m \u001b[32m━━━━━━━━━━━━━━━━━━━━\u001b[0m\u001b[37m\u001b[0m \u001b[1m0s\u001b[0m 5ms/step - loss: 1.6973e-04 - val_loss: 3.0926e-04\n",
      "Epoch 96/100\n",
      "\u001b[1m34/34\u001b[0m \u001b[32m━━━━━━━━━━━━━━━━━━━━\u001b[0m\u001b[37m\u001b[0m \u001b[1m0s\u001b[0m 5ms/step - loss: 1.4345e-04 - val_loss: 3.0925e-04\n",
      "Epoch 97/100\n",
      "\u001b[1m34/34\u001b[0m \u001b[32m━━━━━━━━━━━━━━━━━━━━\u001b[0m\u001b[37m\u001b[0m \u001b[1m0s\u001b[0m 5ms/step - loss: 1.7549e-04 - val_loss: 3.0973e-04\n",
      "Epoch 98/100\n",
      "\u001b[1m34/34\u001b[0m \u001b[32m━━━━━━━━━━━━━━━━━━━━\u001b[0m\u001b[37m\u001b[0m \u001b[1m0s\u001b[0m 5ms/step - loss: 1.6816e-04 - val_loss: 3.5596e-04\n",
      "Epoch 99/100\n",
      "\u001b[1m34/34\u001b[0m \u001b[32m━━━━━━━━━━━━━━━━━━━━\u001b[0m\u001b[37m\u001b[0m \u001b[1m0s\u001b[0m 5ms/step - loss: 1.5936e-04 - val_loss: 2.8083e-04\n",
      "Epoch 100/100\n",
      "\u001b[1m34/34\u001b[0m \u001b[32m━━━━━━━━━━━━━━━━━━━━\u001b[0m\u001b[37m\u001b[0m \u001b[1m0s\u001b[0m 5ms/step - loss: 1.3784e-04 - val_loss: 2.7763e-04\n"
     ]
    }
   ],
   "source": [
    "simple_history = simple_model.fit(\n",
    "    X_train, y_train,\n",
    "    epochs=100,\n",
    "    batch_size=32,\n",
    "    validation_split=0.2,\n",
    "    verbose=1\n",
    ")"
   ]
  },
  {
   "cell_type": "code",
   "execution_count": 26,
   "id": "7066db89",
   "metadata": {
    "execution": {
     "iopub.execute_input": "2025-03-10T14:41:46.271994Z",
     "iopub.status.busy": "2025-03-10T14:41:46.271729Z",
     "iopub.status.idle": "2025-03-10T14:41:46.527486Z",
     "shell.execute_reply": "2025-03-10T14:41:46.526755Z"
    },
    "papermill": {
     "duration": 0.293663,
     "end_time": "2025-03-10T14:41:46.528595",
     "exception": false,
     "start_time": "2025-03-10T14:41:46.234932",
     "status": "completed"
    },
    "tags": []
   },
   "outputs": [
    {
     "name": "stdout",
     "output_type": "stream",
     "text": [
      "\u001b[1m11/11\u001b[0m \u001b[32m━━━━━━━━━━━━━━━━━━━━\u001b[0m\u001b[37m\u001b[0m \u001b[1m0s\u001b[0m 10ms/step\n",
      "Simple LSTM Model MSE: 0.0004019452984594761\n"
     ]
    }
   ],
   "source": [
    "predicted_simple = simple_model.predict(X_test)\n",
    "mse_simple = mean_squared_error(y_test, predicted_simple)\n",
    "print(\"Simple LSTM Model MSE:\", mse_simple)"
   ]
  },
  {
   "cell_type": "markdown",
   "id": "9057977d",
   "metadata": {
    "papermill": {
     "duration": 0.036123,
     "end_time": "2025-03-10T14:41:46.601952",
     "exception": false,
     "start_time": "2025-03-10T14:41:46.565829",
     "status": "completed"
    },
    "tags": []
   },
   "source": [
    "### <span style=\"color: #a9af90;\">4.2 | </span><span style=\"color: #85937a\">Complex LSTM Model</span>"
   ]
  },
  {
   "cell_type": "code",
   "execution_count": 27,
   "id": "226246cd",
   "metadata": {
    "execution": {
     "iopub.execute_input": "2025-03-10T14:41:46.676195Z",
     "iopub.status.busy": "2025-03-10T14:41:46.675925Z",
     "iopub.status.idle": "2025-03-10T14:41:46.760953Z",
     "shell.execute_reply": "2025-03-10T14:41:46.760203Z"
    },
    "papermill": {
     "duration": 0.124039,
     "end_time": "2025-03-10T14:41:46.762111",
     "exception": false,
     "start_time": "2025-03-10T14:41:46.638072",
     "status": "completed"
    },
    "tags": []
   },
   "outputs": [
    {
     "name": "stderr",
     "output_type": "stream",
     "text": [
      "/usr/local/lib/python3.10/dist-packages/keras/src/layers/rnn/rnn.py:204: UserWarning: Do not pass an `input_shape`/`input_dim` argument to a layer. When using Sequential models, prefer using an `Input(shape)` object as the first layer in the model instead.\n",
      "  super().__init__(**kwargs)\n"
     ]
    },
    {
     "data": {
      "text/html": [
       "<pre style=\"white-space:pre;overflow-x:auto;line-height:normal;font-family:Menlo,'DejaVu Sans Mono',consolas,'Courier New',monospace\"><span style=\"font-weight: bold\">Model: \"sequential_1\"</span>\n",
       "</pre>\n"
      ],
      "text/plain": [
       "\u001b[1mModel: \"sequential_1\"\u001b[0m\n"
      ]
     },
     "metadata": {},
     "output_type": "display_data"
    },
    {
     "data": {
      "text/html": [
       "<pre style=\"white-space:pre;overflow-x:auto;line-height:normal;font-family:Menlo,'DejaVu Sans Mono',consolas,'Courier New',monospace\">┏━━━━━━━━━━━━━━━━━━━━━━━━━━━━━━━━━━━━━━┳━━━━━━━━━━━━━━━━━━━━━━━━━━━━━┳━━━━━━━━━━━━━━━━━┓\n",
       "┃<span style=\"font-weight: bold\"> Layer (type)                         </span>┃<span style=\"font-weight: bold\"> Output Shape                </span>┃<span style=\"font-weight: bold\">         Param # </span>┃\n",
       "┡━━━━━━━━━━━━━━━━━━━━━━━━━━━━━━━━━━━━━━╇━━━━━━━━━━━━━━━━━━━━━━━━━━━━━╇━━━━━━━━━━━━━━━━━┩\n",
       "│ lstm_1 (<span style=\"color: #0087ff; text-decoration-color: #0087ff\">LSTM</span>)                        │ (<span style=\"color: #00d7ff; text-decoration-color: #00d7ff\">None</span>, <span style=\"color: #00af00; text-decoration-color: #00af00\">60</span>, <span style=\"color: #00af00; text-decoration-color: #00af00\">100</span>)             │          <span style=\"color: #00af00; text-decoration-color: #00af00\">40,800</span> │\n",
       "├──────────────────────────────────────┼─────────────────────────────┼─────────────────┤\n",
       "│ dropout (<span style=\"color: #0087ff; text-decoration-color: #0087ff\">Dropout</span>)                    │ (<span style=\"color: #00d7ff; text-decoration-color: #00d7ff\">None</span>, <span style=\"color: #00af00; text-decoration-color: #00af00\">60</span>, <span style=\"color: #00af00; text-decoration-color: #00af00\">100</span>)             │               <span style=\"color: #00af00; text-decoration-color: #00af00\">0</span> │\n",
       "├──────────────────────────────────────┼─────────────────────────────┼─────────────────┤\n",
       "│ lstm_2 (<span style=\"color: #0087ff; text-decoration-color: #0087ff\">LSTM</span>)                        │ (<span style=\"color: #00d7ff; text-decoration-color: #00d7ff\">None</span>, <span style=\"color: #00af00; text-decoration-color: #00af00\">50</span>)                  │          <span style=\"color: #00af00; text-decoration-color: #00af00\">30,200</span> │\n",
       "├──────────────────────────────────────┼─────────────────────────────┼─────────────────┤\n",
       "│ dropout_1 (<span style=\"color: #0087ff; text-decoration-color: #0087ff\">Dropout</span>)                  │ (<span style=\"color: #00d7ff; text-decoration-color: #00d7ff\">None</span>, <span style=\"color: #00af00; text-decoration-color: #00af00\">50</span>)                  │               <span style=\"color: #00af00; text-decoration-color: #00af00\">0</span> │\n",
       "├──────────────────────────────────────┼─────────────────────────────┼─────────────────┤\n",
       "│ dense_2 (<span style=\"color: #0087ff; text-decoration-color: #0087ff\">Dense</span>)                      │ (<span style=\"color: #00d7ff; text-decoration-color: #00d7ff\">None</span>, <span style=\"color: #00af00; text-decoration-color: #00af00\">25</span>)                  │           <span style=\"color: #00af00; text-decoration-color: #00af00\">1,275</span> │\n",
       "├──────────────────────────────────────┼─────────────────────────────┼─────────────────┤\n",
       "│ dense_3 (<span style=\"color: #0087ff; text-decoration-color: #0087ff\">Dense</span>)                      │ (<span style=\"color: #00d7ff; text-decoration-color: #00d7ff\">None</span>, <span style=\"color: #00af00; text-decoration-color: #00af00\">1</span>)                   │              <span style=\"color: #00af00; text-decoration-color: #00af00\">26</span> │\n",
       "└──────────────────────────────────────┴─────────────────────────────┴─────────────────┘\n",
       "</pre>\n"
      ],
      "text/plain": [
       "┏━━━━━━━━━━━━━━━━━━━━━━━━━━━━━━━━━━━━━━┳━━━━━━━━━━━━━━━━━━━━━━━━━━━━━┳━━━━━━━━━━━━━━━━━┓\n",
       "┃\u001b[1m \u001b[0m\u001b[1mLayer (type)                        \u001b[0m\u001b[1m \u001b[0m┃\u001b[1m \u001b[0m\u001b[1mOutput Shape               \u001b[0m\u001b[1m \u001b[0m┃\u001b[1m \u001b[0m\u001b[1m        Param #\u001b[0m\u001b[1m \u001b[0m┃\n",
       "┡━━━━━━━━━━━━━━━━━━━━━━━━━━━━━━━━━━━━━━╇━━━━━━━━━━━━━━━━━━━━━━━━━━━━━╇━━━━━━━━━━━━━━━━━┩\n",
       "│ lstm_1 (\u001b[38;5;33mLSTM\u001b[0m)                        │ (\u001b[38;5;45mNone\u001b[0m, \u001b[38;5;34m60\u001b[0m, \u001b[38;5;34m100\u001b[0m)             │          \u001b[38;5;34m40,800\u001b[0m │\n",
       "├──────────────────────────────────────┼─────────────────────────────┼─────────────────┤\n",
       "│ dropout (\u001b[38;5;33mDropout\u001b[0m)                    │ (\u001b[38;5;45mNone\u001b[0m, \u001b[38;5;34m60\u001b[0m, \u001b[38;5;34m100\u001b[0m)             │               \u001b[38;5;34m0\u001b[0m │\n",
       "├──────────────────────────────────────┼─────────────────────────────┼─────────────────┤\n",
       "│ lstm_2 (\u001b[38;5;33mLSTM\u001b[0m)                        │ (\u001b[38;5;45mNone\u001b[0m, \u001b[38;5;34m50\u001b[0m)                  │          \u001b[38;5;34m30,200\u001b[0m │\n",
       "├──────────────────────────────────────┼─────────────────────────────┼─────────────────┤\n",
       "│ dropout_1 (\u001b[38;5;33mDropout\u001b[0m)                  │ (\u001b[38;5;45mNone\u001b[0m, \u001b[38;5;34m50\u001b[0m)                  │               \u001b[38;5;34m0\u001b[0m │\n",
       "├──────────────────────────────────────┼─────────────────────────────┼─────────────────┤\n",
       "│ dense_2 (\u001b[38;5;33mDense\u001b[0m)                      │ (\u001b[38;5;45mNone\u001b[0m, \u001b[38;5;34m25\u001b[0m)                  │           \u001b[38;5;34m1,275\u001b[0m │\n",
       "├──────────────────────────────────────┼─────────────────────────────┼─────────────────┤\n",
       "│ dense_3 (\u001b[38;5;33mDense\u001b[0m)                      │ (\u001b[38;5;45mNone\u001b[0m, \u001b[38;5;34m1\u001b[0m)                   │              \u001b[38;5;34m26\u001b[0m │\n",
       "└──────────────────────────────────────┴─────────────────────────────┴─────────────────┘\n"
      ]
     },
     "metadata": {},
     "output_type": "display_data"
    },
    {
     "data": {
      "text/html": [
       "<pre style=\"white-space:pre;overflow-x:auto;line-height:normal;font-family:Menlo,'DejaVu Sans Mono',consolas,'Courier New',monospace\"><span style=\"font-weight: bold\"> Total params: </span><span style=\"color: #00af00; text-decoration-color: #00af00\">72,301</span> (282.43 KB)\n",
       "</pre>\n"
      ],
      "text/plain": [
       "\u001b[1m Total params: \u001b[0m\u001b[38;5;34m72,301\u001b[0m (282.43 KB)\n"
      ]
     },
     "metadata": {},
     "output_type": "display_data"
    },
    {
     "data": {
      "text/html": [
       "<pre style=\"white-space:pre;overflow-x:auto;line-height:normal;font-family:Menlo,'DejaVu Sans Mono',consolas,'Courier New',monospace\"><span style=\"font-weight: bold\"> Trainable params: </span><span style=\"color: #00af00; text-decoration-color: #00af00\">72,301</span> (282.43 KB)\n",
       "</pre>\n"
      ],
      "text/plain": [
       "\u001b[1m Trainable params: \u001b[0m\u001b[38;5;34m72,301\u001b[0m (282.43 KB)\n"
      ]
     },
     "metadata": {},
     "output_type": "display_data"
    },
    {
     "data": {
      "text/html": [
       "<pre style=\"white-space:pre;overflow-x:auto;line-height:normal;font-family:Menlo,'DejaVu Sans Mono',consolas,'Courier New',monospace\"><span style=\"font-weight: bold\"> Non-trainable params: </span><span style=\"color: #00af00; text-decoration-color: #00af00\">0</span> (0.00 B)\n",
       "</pre>\n"
      ],
      "text/plain": [
       "\u001b[1m Non-trainable params: \u001b[0m\u001b[38;5;34m0\u001b[0m (0.00 B)\n"
      ]
     },
     "metadata": {},
     "output_type": "display_data"
    }
   ],
   "source": [
    "complex_model = Sequential()\n",
    "complex_model.add(LSTM(100, activation='tanh', return_sequences=True, input_shape=(look_back, 1)))\n",
    "complex_model.add(Dropout(0.2))\n",
    "complex_model.add(LSTM(50, activation='tanh', return_sequences=False))\n",
    "complex_model.add(Dropout(0.2))\n",
    "complex_model.add(Dense(25, activation='relu'))\n",
    "complex_model.add(Dense(1))\n",
    "complex_model.compile(optimizer='adam', loss='mse')\n",
    "complex_model.summary()"
   ]
  },
  {
   "cell_type": "code",
   "execution_count": 28,
   "id": "0255271d",
   "metadata": {
    "execution": {
     "iopub.execute_input": "2025-03-10T14:41:46.836090Z",
     "iopub.status.busy": "2025-03-10T14:41:46.835832Z",
     "iopub.status.idle": "2025-03-10T14:42:18.349160Z",
     "shell.execute_reply": "2025-03-10T14:42:18.348476Z"
    },
    "papermill": {
     "duration": 31.551998,
     "end_time": "2025-03-10T14:42:18.350449",
     "exception": false,
     "start_time": "2025-03-10T14:41:46.798451",
     "status": "completed"
    },
    "tags": []
   },
   "outputs": [
    {
     "name": "stdout",
     "output_type": "stream",
     "text": [
      "Epoch 1/100\n",
      "\u001b[1m34/34\u001b[0m \u001b[32m━━━━━━━━━━━━━━━━━━━━\u001b[0m\u001b[37m\u001b[0m \u001b[1m3s\u001b[0m 18ms/step - loss: 0.0399 - val_loss: 0.0026\n",
      "Epoch 2/100\n",
      "\u001b[1m34/34\u001b[0m \u001b[32m━━━━━━━━━━━━━━━━━━━━\u001b[0m\u001b[37m\u001b[0m \u001b[1m0s\u001b[0m 8ms/step - loss: 0.0026 - val_loss: 0.0013\n",
      "Epoch 3/100\n",
      "\u001b[1m34/34\u001b[0m \u001b[32m━━━━━━━━━━━━━━━━━━━━\u001b[0m\u001b[37m\u001b[0m \u001b[1m0s\u001b[0m 8ms/step - loss: 0.0017 - val_loss: 0.0016\n",
      "Epoch 4/100\n",
      "\u001b[1m34/34\u001b[0m \u001b[32m━━━━━━━━━━━━━━━━━━━━\u001b[0m\u001b[37m\u001b[0m \u001b[1m0s\u001b[0m 8ms/step - loss: 0.0018 - val_loss: 0.0012\n",
      "Epoch 5/100\n",
      "\u001b[1m34/34\u001b[0m \u001b[32m━━━━━━━━━━━━━━━━━━━━\u001b[0m\u001b[37m\u001b[0m \u001b[1m0s\u001b[0m 8ms/step - loss: 0.0014 - val_loss: 0.0015\n",
      "Epoch 6/100\n",
      "\u001b[1m34/34\u001b[0m \u001b[32m━━━━━━━━━━━━━━━━━━━━\u001b[0m\u001b[37m\u001b[0m \u001b[1m0s\u001b[0m 8ms/step - loss: 0.0012 - val_loss: 0.0015\n",
      "Epoch 7/100\n",
      "\u001b[1m34/34\u001b[0m \u001b[32m━━━━━━━━━━━━━━━━━━━━\u001b[0m\u001b[37m\u001b[0m \u001b[1m0s\u001b[0m 8ms/step - loss: 0.0013 - val_loss: 0.0013\n",
      "Epoch 8/100\n",
      "\u001b[1m34/34\u001b[0m \u001b[32m━━━━━━━━━━━━━━━━━━━━\u001b[0m\u001b[37m\u001b[0m \u001b[1m0s\u001b[0m 8ms/step - loss: 0.0010 - val_loss: 0.0011\n",
      "Epoch 9/100\n",
      "\u001b[1m34/34\u001b[0m \u001b[32m━━━━━━━━━━━━━━━━━━━━\u001b[0m\u001b[37m\u001b[0m \u001b[1m0s\u001b[0m 8ms/step - loss: 9.6040e-04 - val_loss: 0.0011\n",
      "Epoch 10/100\n",
      "\u001b[1m34/34\u001b[0m \u001b[32m━━━━━━━━━━━━━━━━━━━━\u001b[0m\u001b[37m\u001b[0m \u001b[1m0s\u001b[0m 8ms/step - loss: 0.0011 - val_loss: 0.0010\n",
      "Epoch 11/100\n",
      "\u001b[1m34/34\u001b[0m \u001b[32m━━━━━━━━━━━━━━━━━━━━\u001b[0m\u001b[37m\u001b[0m \u001b[1m0s\u001b[0m 8ms/step - loss: 0.0010 - val_loss: 0.0011\n",
      "Epoch 12/100\n",
      "\u001b[1m34/34\u001b[0m \u001b[32m━━━━━━━━━━━━━━━━━━━━\u001b[0m\u001b[37m\u001b[0m \u001b[1m0s\u001b[0m 8ms/step - loss: 8.6897e-04 - val_loss: 0.0011\n",
      "Epoch 13/100\n",
      "\u001b[1m34/34\u001b[0m \u001b[32m━━━━━━━━━━━━━━━━━━━━\u001b[0m\u001b[37m\u001b[0m \u001b[1m0s\u001b[0m 8ms/step - loss: 0.0010 - val_loss: 9.5847e-04\n",
      "Epoch 14/100\n",
      "\u001b[1m34/34\u001b[0m \u001b[32m━━━━━━━━━━━━━━━━━━━━\u001b[0m\u001b[37m\u001b[0m \u001b[1m0s\u001b[0m 8ms/step - loss: 9.6027e-04 - val_loss: 9.3057e-04\n",
      "Epoch 15/100\n",
      "\u001b[1m34/34\u001b[0m \u001b[32m━━━━━━━━━━━━━━━━━━━━\u001b[0m\u001b[37m\u001b[0m \u001b[1m0s\u001b[0m 8ms/step - loss: 8.7268e-04 - val_loss: 0.0012\n",
      "Epoch 16/100\n",
      "\u001b[1m34/34\u001b[0m \u001b[32m━━━━━━━━━━━━━━━━━━━━\u001b[0m\u001b[37m\u001b[0m \u001b[1m0s\u001b[0m 8ms/step - loss: 9.2210e-04 - val_loss: 9.0097e-04\n",
      "Epoch 17/100\n",
      "\u001b[1m34/34\u001b[0m \u001b[32m━━━━━━━━━━━━━━━━━━━━\u001b[0m\u001b[37m\u001b[0m \u001b[1m0s\u001b[0m 8ms/step - loss: 8.0386e-04 - val_loss: 9.0984e-04\n",
      "Epoch 18/100\n",
      "\u001b[1m34/34\u001b[0m \u001b[32m━━━━━━━━━━━━━━━━━━━━\u001b[0m\u001b[37m\u001b[0m \u001b[1m0s\u001b[0m 8ms/step - loss: 7.6583e-04 - val_loss: 9.0741e-04\n",
      "Epoch 19/100\n",
      "\u001b[1m34/34\u001b[0m \u001b[32m━━━━━━━━━━━━━━━━━━━━\u001b[0m\u001b[37m\u001b[0m \u001b[1m0s\u001b[0m 8ms/step - loss: 9.8853e-04 - val_loss: 0.0018\n",
      "Epoch 20/100\n",
      "\u001b[1m34/34\u001b[0m \u001b[32m━━━━━━━━━━━━━━━━━━━━\u001b[0m\u001b[37m\u001b[0m \u001b[1m0s\u001b[0m 8ms/step - loss: 9.4579e-04 - val_loss: 0.0013\n",
      "Epoch 21/100\n",
      "\u001b[1m34/34\u001b[0m \u001b[32m━━━━━━━━━━━━━━━━━━━━\u001b[0m\u001b[37m\u001b[0m \u001b[1m0s\u001b[0m 8ms/step - loss: 6.6329e-04 - val_loss: 8.6655e-04\n",
      "Epoch 22/100\n",
      "\u001b[1m34/34\u001b[0m \u001b[32m━━━━━━━━━━━━━━━━━━━━\u001b[0m\u001b[37m\u001b[0m \u001b[1m0s\u001b[0m 8ms/step - loss: 7.4805e-04 - val_loss: 9.1665e-04\n",
      "Epoch 23/100\n",
      "\u001b[1m34/34\u001b[0m \u001b[32m━━━━━━━━━━━━━━━━━━━━\u001b[0m\u001b[37m\u001b[0m \u001b[1m0s\u001b[0m 8ms/step - loss: 7.8266e-04 - val_loss: 8.4165e-04\n",
      "Epoch 24/100\n",
      "\u001b[1m34/34\u001b[0m \u001b[32m━━━━━━━━━━━━━━━━━━━━\u001b[0m\u001b[37m\u001b[0m \u001b[1m0s\u001b[0m 8ms/step - loss: 7.1928e-04 - val_loss: 8.9692e-04\n",
      "Epoch 25/100\n",
      "\u001b[1m34/34\u001b[0m \u001b[32m━━━━━━━━━━━━━━━━━━━━\u001b[0m\u001b[37m\u001b[0m \u001b[1m0s\u001b[0m 8ms/step - loss: 6.5066e-04 - val_loss: 7.3605e-04\n",
      "Epoch 26/100\n",
      "\u001b[1m34/34\u001b[0m \u001b[32m━━━━━━━━━━━━━━━━━━━━\u001b[0m\u001b[37m\u001b[0m \u001b[1m0s\u001b[0m 8ms/step - loss: 7.7479e-04 - val_loss: 7.8136e-04\n",
      "Epoch 27/100\n",
      "\u001b[1m34/34\u001b[0m \u001b[32m━━━━━━━━━━━━━━━━━━━━\u001b[0m\u001b[37m\u001b[0m \u001b[1m0s\u001b[0m 8ms/step - loss: 7.2348e-04 - val_loss: 8.2640e-04\n",
      "Epoch 28/100\n",
      "\u001b[1m34/34\u001b[0m \u001b[32m━━━━━━━━━━━━━━━━━━━━\u001b[0m\u001b[37m\u001b[0m \u001b[1m0s\u001b[0m 8ms/step - loss: 7.1126e-04 - val_loss: 7.2934e-04\n",
      "Epoch 29/100\n",
      "\u001b[1m34/34\u001b[0m \u001b[32m━━━━━━━━━━━━━━━━━━━━\u001b[0m\u001b[37m\u001b[0m \u001b[1m0s\u001b[0m 8ms/step - loss: 6.7606e-04 - val_loss: 8.8509e-04\n",
      "Epoch 30/100\n",
      "\u001b[1m34/34\u001b[0m \u001b[32m━━━━━━━━━━━━━━━━━━━━\u001b[0m\u001b[37m\u001b[0m \u001b[1m0s\u001b[0m 10ms/step - loss: 6.3526e-04 - val_loss: 8.0940e-04\n",
      "Epoch 31/100\n",
      "\u001b[1m34/34\u001b[0m \u001b[32m━━━━━━━━━━━━━━━━━━━━\u001b[0m\u001b[37m\u001b[0m \u001b[1m0s\u001b[0m 9ms/step - loss: 6.9860e-04 - val_loss: 8.8032e-04\n",
      "Epoch 32/100\n",
      "\u001b[1m34/34\u001b[0m \u001b[32m━━━━━━━━━━━━━━━━━━━━\u001b[0m\u001b[37m\u001b[0m \u001b[1m0s\u001b[0m 9ms/step - loss: 8.5564e-04 - val_loss: 0.0010\n",
      "Epoch 33/100\n",
      "\u001b[1m34/34\u001b[0m \u001b[32m━━━━━━━━━━━━━━━━━━━━\u001b[0m\u001b[37m\u001b[0m \u001b[1m0s\u001b[0m 9ms/step - loss: 7.9856e-04 - val_loss: 7.1854e-04\n",
      "Epoch 34/100\n",
      "\u001b[1m34/34\u001b[0m \u001b[32m━━━━━━━━━━━━━━━━━━━━\u001b[0m\u001b[37m\u001b[0m \u001b[1m0s\u001b[0m 9ms/step - loss: 7.0127e-04 - val_loss: 6.7204e-04\n",
      "Epoch 35/100\n",
      "\u001b[1m34/34\u001b[0m \u001b[32m━━━━━━━━━━━━━━━━━━━━\u001b[0m\u001b[37m\u001b[0m \u001b[1m0s\u001b[0m 8ms/step - loss: 7.0062e-04 - val_loss: 8.4798e-04\n",
      "Epoch 36/100\n",
      "\u001b[1m34/34\u001b[0m \u001b[32m━━━━━━━━━━━━━━━━━━━━\u001b[0m\u001b[37m\u001b[0m \u001b[1m0s\u001b[0m 8ms/step - loss: 6.2166e-04 - val_loss: 6.4658e-04\n",
      "Epoch 37/100\n",
      "\u001b[1m34/34\u001b[0m \u001b[32m━━━━━━━━━━━━━━━━━━━━\u001b[0m\u001b[37m\u001b[0m \u001b[1m0s\u001b[0m 8ms/step - loss: 6.1256e-04 - val_loss: 6.5044e-04\n",
      "Epoch 38/100\n",
      "\u001b[1m34/34\u001b[0m \u001b[32m━━━━━━━━━━━━━━━━━━━━\u001b[0m\u001b[37m\u001b[0m \u001b[1m0s\u001b[0m 8ms/step - loss: 7.1025e-04 - val_loss: 6.6384e-04\n",
      "Epoch 39/100\n",
      "\u001b[1m34/34\u001b[0m \u001b[32m━━━━━━━━━━━━━━━━━━━━\u001b[0m\u001b[37m\u001b[0m \u001b[1m0s\u001b[0m 8ms/step - loss: 6.2929e-04 - val_loss: 6.1782e-04\n",
      "Epoch 40/100\n",
      "\u001b[1m34/34\u001b[0m \u001b[32m━━━━━━━━━━━━━━━━━━━━\u001b[0m\u001b[37m\u001b[0m \u001b[1m0s\u001b[0m 8ms/step - loss: 5.2212e-04 - val_loss: 6.5354e-04\n",
      "Epoch 41/100\n",
      "\u001b[1m34/34\u001b[0m \u001b[32m━━━━━━━━━━━━━━━━━━━━\u001b[0m\u001b[37m\u001b[0m \u001b[1m0s\u001b[0m 8ms/step - loss: 6.9585e-04 - val_loss: 6.3205e-04\n",
      "Epoch 42/100\n",
      "\u001b[1m34/34\u001b[0m \u001b[32m━━━━━━━━━━━━━━━━━━━━\u001b[0m\u001b[37m\u001b[0m \u001b[1m0s\u001b[0m 8ms/step - loss: 5.7576e-04 - val_loss: 6.2332e-04\n",
      "Epoch 43/100\n",
      "\u001b[1m34/34\u001b[0m \u001b[32m━━━━━━━━━━━━━━━━━━━━\u001b[0m\u001b[37m\u001b[0m \u001b[1m0s\u001b[0m 8ms/step - loss: 5.5235e-04 - val_loss: 7.9098e-04\n",
      "Epoch 44/100\n",
      "\u001b[1m34/34\u001b[0m \u001b[32m━━━━━━━━━━━━━━━━━━━━\u001b[0m\u001b[37m\u001b[0m \u001b[1m0s\u001b[0m 8ms/step - loss: 6.1633e-04 - val_loss: 6.2418e-04\n",
      "Epoch 45/100\n",
      "\u001b[1m34/34\u001b[0m \u001b[32m━━━━━━━━━━━━━━━━━━━━\u001b[0m\u001b[37m\u001b[0m \u001b[1m0s\u001b[0m 8ms/step - loss: 4.9695e-04 - val_loss: 6.0320e-04\n",
      "Epoch 46/100\n",
      "\u001b[1m34/34\u001b[0m \u001b[32m━━━━━━━━━━━━━━━━━━━━\u001b[0m\u001b[37m\u001b[0m \u001b[1m0s\u001b[0m 8ms/step - loss: 5.6444e-04 - val_loss: 6.1506e-04\n",
      "Epoch 47/100\n",
      "\u001b[1m34/34\u001b[0m \u001b[32m━━━━━━━━━━━━━━━━━━━━\u001b[0m\u001b[37m\u001b[0m \u001b[1m0s\u001b[0m 8ms/step - loss: 5.6286e-04 - val_loss: 6.0619e-04\n",
      "Epoch 48/100\n",
      "\u001b[1m34/34\u001b[0m \u001b[32m━━━━━━━━━━━━━━━━━━━━\u001b[0m\u001b[37m\u001b[0m \u001b[1m0s\u001b[0m 8ms/step - loss: 6.0493e-04 - val_loss: 6.0093e-04\n",
      "Epoch 49/100\n",
      "\u001b[1m34/34\u001b[0m \u001b[32m━━━━━━━━━━━━━━━━━━━━\u001b[0m\u001b[37m\u001b[0m \u001b[1m0s\u001b[0m 8ms/step - loss: 5.6236e-04 - val_loss: 7.8797e-04\n",
      "Epoch 50/100\n",
      "\u001b[1m34/34\u001b[0m \u001b[32m━━━━━━━━━━━━━━━━━━━━\u001b[0m\u001b[37m\u001b[0m \u001b[1m0s\u001b[0m 8ms/step - loss: 6.8777e-04 - val_loss: 8.2280e-04\n",
      "Epoch 51/100\n",
      "\u001b[1m34/34\u001b[0m \u001b[32m━━━━━━━━━━━━━━━━━━━━\u001b[0m\u001b[37m\u001b[0m \u001b[1m0s\u001b[0m 8ms/step - loss: 6.1727e-04 - val_loss: 7.5319e-04\n",
      "Epoch 52/100\n",
      "\u001b[1m34/34\u001b[0m \u001b[32m━━━━━━━━━━━━━━━━━━━━\u001b[0m\u001b[37m\u001b[0m \u001b[1m0s\u001b[0m 8ms/step - loss: 6.5994e-04 - val_loss: 5.7683e-04\n",
      "Epoch 53/100\n",
      "\u001b[1m34/34\u001b[0m \u001b[32m━━━━━━━━━━━━━━━━━━━━\u001b[0m\u001b[37m\u001b[0m \u001b[1m0s\u001b[0m 8ms/step - loss: 4.9017e-04 - val_loss: 5.7436e-04\n",
      "Epoch 54/100\n",
      "\u001b[1m34/34\u001b[0m \u001b[32m━━━━━━━━━━━━━━━━━━━━\u001b[0m\u001b[37m\u001b[0m \u001b[1m0s\u001b[0m 8ms/step - loss: 5.9664e-04 - val_loss: 0.0012\n",
      "Epoch 55/100\n",
      "\u001b[1m34/34\u001b[0m \u001b[32m━━━━━━━━━━━━━━━━━━━━\u001b[0m\u001b[37m\u001b[0m \u001b[1m0s\u001b[0m 8ms/step - loss: 8.5648e-04 - val_loss: 6.9297e-04\n",
      "Epoch 56/100\n",
      "\u001b[1m34/34\u001b[0m \u001b[32m━━━━━━━━━━━━━━━━━━━━\u001b[0m\u001b[37m\u001b[0m \u001b[1m0s\u001b[0m 8ms/step - loss: 5.4795e-04 - val_loss: 5.4929e-04\n",
      "Epoch 57/100\n",
      "\u001b[1m34/34\u001b[0m \u001b[32m━━━━━━━━━━━━━━━━━━━━\u001b[0m\u001b[37m\u001b[0m \u001b[1m0s\u001b[0m 8ms/step - loss: 4.8103e-04 - val_loss: 7.2560e-04\n",
      "Epoch 58/100\n",
      "\u001b[1m34/34\u001b[0m \u001b[32m━━━━━━━━━━━━━━━━━━━━\u001b[0m\u001b[37m\u001b[0m \u001b[1m0s\u001b[0m 8ms/step - loss: 5.4201e-04 - val_loss: 8.2107e-04\n",
      "Epoch 59/100\n",
      "\u001b[1m34/34\u001b[0m \u001b[32m━━━━━━━━━━━━━━━━━━━━\u001b[0m\u001b[37m\u001b[0m \u001b[1m0s\u001b[0m 8ms/step - loss: 6.0813e-04 - val_loss: 6.5172e-04\n",
      "Epoch 60/100\n",
      "\u001b[1m34/34\u001b[0m \u001b[32m━━━━━━━━━━━━━━━━━━━━\u001b[0m\u001b[37m\u001b[0m \u001b[1m0s\u001b[0m 8ms/step - loss: 5.9642e-04 - val_loss: 5.7287e-04\n",
      "Epoch 61/100\n",
      "\u001b[1m34/34\u001b[0m \u001b[32m━━━━━━━━━━━━━━━━━━━━\u001b[0m\u001b[37m\u001b[0m \u001b[1m0s\u001b[0m 8ms/step - loss: 4.7191e-04 - val_loss: 5.2614e-04\n",
      "Epoch 62/100\n",
      "\u001b[1m34/34\u001b[0m \u001b[32m━━━━━━━━━━━━━━━━━━━━\u001b[0m\u001b[37m\u001b[0m \u001b[1m0s\u001b[0m 8ms/step - loss: 5.6684e-04 - val_loss: 6.4477e-04\n",
      "Epoch 63/100\n",
      "\u001b[1m34/34\u001b[0m \u001b[32m━━━━━━━━━━━━━━━━━━━━\u001b[0m\u001b[37m\u001b[0m \u001b[1m0s\u001b[0m 8ms/step - loss: 5.4610e-04 - val_loss: 5.0619e-04\n",
      "Epoch 64/100\n",
      "\u001b[1m34/34\u001b[0m \u001b[32m━━━━━━━━━━━━━━━━━━━━\u001b[0m\u001b[37m\u001b[0m \u001b[1m0s\u001b[0m 8ms/step - loss: 5.2985e-04 - val_loss: 7.4082e-04\n",
      "Epoch 65/100\n",
      "\u001b[1m34/34\u001b[0m \u001b[32m━━━━━━━━━━━━━━━━━━━━\u001b[0m\u001b[37m\u001b[0m \u001b[1m0s\u001b[0m 8ms/step - loss: 4.9204e-04 - val_loss: 5.6340e-04\n",
      "Epoch 66/100\n",
      "\u001b[1m34/34\u001b[0m \u001b[32m━━━━━━━━━━━━━━━━━━━━\u001b[0m\u001b[37m\u001b[0m \u001b[1m0s\u001b[0m 8ms/step - loss: 5.1712e-04 - val_loss: 5.6779e-04\n",
      "Epoch 67/100\n",
      "\u001b[1m34/34\u001b[0m \u001b[32m━━━━━━━━━━━━━━━━━━━━\u001b[0m\u001b[37m\u001b[0m \u001b[1m0s\u001b[0m 8ms/step - loss: 4.6672e-04 - val_loss: 5.0530e-04\n",
      "Epoch 68/100\n",
      "\u001b[1m34/34\u001b[0m \u001b[32m━━━━━━━━━━━━━━━━━━━━\u001b[0m\u001b[37m\u001b[0m \u001b[1m0s\u001b[0m 8ms/step - loss: 4.4029e-04 - val_loss: 4.9553e-04\n",
      "Epoch 69/100\n",
      "\u001b[1m34/34\u001b[0m \u001b[32m━━━━━━━━━━━━━━━━━━━━\u001b[0m\u001b[37m\u001b[0m \u001b[1m0s\u001b[0m 8ms/step - loss: 4.9872e-04 - val_loss: 4.8454e-04\n",
      "Epoch 70/100\n",
      "\u001b[1m34/34\u001b[0m \u001b[32m━━━━━━━━━━━━━━━━━━━━\u001b[0m\u001b[37m\u001b[0m \u001b[1m0s\u001b[0m 8ms/step - loss: 4.8642e-04 - val_loss: 5.1851e-04\n",
      "Epoch 71/100\n",
      "\u001b[1m34/34\u001b[0m \u001b[32m━━━━━━━━━━━━━━━━━━━━\u001b[0m\u001b[37m\u001b[0m \u001b[1m0s\u001b[0m 8ms/step - loss: 4.3410e-04 - val_loss: 5.2989e-04\n",
      "Epoch 72/100\n",
      "\u001b[1m34/34\u001b[0m \u001b[32m━━━━━━━━━━━━━━━━━━━━\u001b[0m\u001b[37m\u001b[0m \u001b[1m0s\u001b[0m 8ms/step - loss: 4.1630e-04 - val_loss: 4.9734e-04\n",
      "Epoch 73/100\n",
      "\u001b[1m34/34\u001b[0m \u001b[32m━━━━━━━━━━━━━━━━━━━━\u001b[0m\u001b[37m\u001b[0m \u001b[1m0s\u001b[0m 8ms/step - loss: 4.8966e-04 - val_loss: 4.6631e-04\n",
      "Epoch 74/100\n",
      "\u001b[1m34/34\u001b[0m \u001b[32m━━━━━━━━━━━━━━━━━━━━\u001b[0m\u001b[37m\u001b[0m \u001b[1m0s\u001b[0m 8ms/step - loss: 4.5087e-04 - val_loss: 4.7255e-04\n",
      "Epoch 75/100\n",
      "\u001b[1m34/34\u001b[0m \u001b[32m━━━━━━━━━━━━━━━━━━━━\u001b[0m\u001b[37m\u001b[0m \u001b[1m0s\u001b[0m 8ms/step - loss: 5.1163e-04 - val_loss: 4.6946e-04\n",
      "Epoch 76/100\n",
      "\u001b[1m34/34\u001b[0m \u001b[32m━━━━━━━━━━━━━━━━━━━━\u001b[0m\u001b[37m\u001b[0m \u001b[1m0s\u001b[0m 8ms/step - loss: 4.7574e-04 - val_loss: 4.9379e-04\n",
      "Epoch 77/100\n",
      "\u001b[1m34/34\u001b[0m \u001b[32m━━━━━━━━━━━━━━━━━━━━\u001b[0m\u001b[37m\u001b[0m \u001b[1m0s\u001b[0m 8ms/step - loss: 5.5231e-04 - val_loss: 4.5311e-04\n",
      "Epoch 78/100\n",
      "\u001b[1m34/34\u001b[0m \u001b[32m━━━━━━━━━━━━━━━━━━━━\u001b[0m\u001b[37m\u001b[0m \u001b[1m0s\u001b[0m 8ms/step - loss: 4.8927e-04 - val_loss: 5.2687e-04\n",
      "Epoch 79/100\n",
      "\u001b[1m34/34\u001b[0m \u001b[32m━━━━━━━━━━━━━━━━━━━━\u001b[0m\u001b[37m\u001b[0m \u001b[1m0s\u001b[0m 8ms/step - loss: 4.8538e-04 - val_loss: 4.6864e-04\n",
      "Epoch 80/100\n",
      "\u001b[1m34/34\u001b[0m \u001b[32m━━━━━━━━━━━━━━━━━━━━\u001b[0m\u001b[37m\u001b[0m \u001b[1m0s\u001b[0m 8ms/step - loss: 4.4891e-04 - val_loss: 4.9377e-04\n",
      "Epoch 81/100\n",
      "\u001b[1m34/34\u001b[0m \u001b[32m━━━━━━━━━━━━━━━━━━━━\u001b[0m\u001b[37m\u001b[0m \u001b[1m0s\u001b[0m 8ms/step - loss: 4.1033e-04 - val_loss: 4.3692e-04\n",
      "Epoch 82/100\n",
      "\u001b[1m34/34\u001b[0m \u001b[32m━━━━━━━━━━━━━━━━━━━━\u001b[0m\u001b[37m\u001b[0m \u001b[1m0s\u001b[0m 8ms/step - loss: 3.9980e-04 - val_loss: 4.6735e-04\n",
      "Epoch 83/100\n",
      "\u001b[1m34/34\u001b[0m \u001b[32m━━━━━━━━━━━━━━━━━━━━\u001b[0m\u001b[37m\u001b[0m \u001b[1m0s\u001b[0m 8ms/step - loss: 4.2742e-04 - val_loss: 4.4280e-04\n",
      "Epoch 84/100\n",
      "\u001b[1m34/34\u001b[0m \u001b[32m━━━━━━━━━━━━━━━━━━━━\u001b[0m\u001b[37m\u001b[0m \u001b[1m0s\u001b[0m 8ms/step - loss: 4.7038e-04 - val_loss: 4.3608e-04\n",
      "Epoch 85/100\n",
      "\u001b[1m34/34\u001b[0m \u001b[32m━━━━━━━━━━━━━━━━━━━━\u001b[0m\u001b[37m\u001b[0m \u001b[1m0s\u001b[0m 8ms/step - loss: 4.5125e-04 - val_loss: 4.2507e-04\n",
      "Epoch 86/100\n",
      "\u001b[1m34/34\u001b[0m \u001b[32m━━━━━━━━━━━━━━━━━━━━\u001b[0m\u001b[37m\u001b[0m \u001b[1m0s\u001b[0m 8ms/step - loss: 4.9473e-04 - val_loss: 4.2853e-04\n",
      "Epoch 87/100\n",
      "\u001b[1m34/34\u001b[0m \u001b[32m━━━━━━━━━━━━━━━━━━━━\u001b[0m\u001b[37m\u001b[0m \u001b[1m0s\u001b[0m 8ms/step - loss: 4.0736e-04 - val_loss: 5.1307e-04\n",
      "Epoch 88/100\n",
      "\u001b[1m34/34\u001b[0m \u001b[32m━━━━━━━━━━━━━━━━━━━━\u001b[0m\u001b[37m\u001b[0m \u001b[1m0s\u001b[0m 8ms/step - loss: 4.4386e-04 - val_loss: 4.3290e-04\n",
      "Epoch 89/100\n",
      "\u001b[1m34/34\u001b[0m \u001b[32m━━━━━━━━━━━━━━━━━━━━\u001b[0m\u001b[37m\u001b[0m \u001b[1m0s\u001b[0m 8ms/step - loss: 4.1775e-04 - val_loss: 7.7533e-04\n",
      "Epoch 90/100\n",
      "\u001b[1m34/34\u001b[0m \u001b[32m━━━━━━━━━━━━━━━━━━━━\u001b[0m\u001b[37m\u001b[0m \u001b[1m0s\u001b[0m 8ms/step - loss: 5.4950e-04 - val_loss: 4.1925e-04\n",
      "Epoch 91/100\n",
      "\u001b[1m34/34\u001b[0m \u001b[32m━━━━━━━━━━━━━━━━━━━━\u001b[0m\u001b[37m\u001b[0m \u001b[1m0s\u001b[0m 8ms/step - loss: 4.9354e-04 - val_loss: 8.1926e-04\n",
      "Epoch 92/100\n",
      "\u001b[1m34/34\u001b[0m \u001b[32m━━━━━━━━━━━━━━━━━━━━\u001b[0m\u001b[37m\u001b[0m \u001b[1m0s\u001b[0m 8ms/step - loss: 4.7555e-04 - val_loss: 4.1631e-04\n",
      "Epoch 93/100\n",
      "\u001b[1m34/34\u001b[0m \u001b[32m━━━━━━━━━━━━━━━━━━━━\u001b[0m\u001b[37m\u001b[0m \u001b[1m0s\u001b[0m 8ms/step - loss: 3.8942e-04 - val_loss: 4.1847e-04\n",
      "Epoch 94/100\n",
      "\u001b[1m34/34\u001b[0m \u001b[32m━━━━━━━━━━━━━━━━━━━━\u001b[0m\u001b[37m\u001b[0m \u001b[1m0s\u001b[0m 8ms/step - loss: 4.2405e-04 - val_loss: 4.4306e-04\n",
      "Epoch 95/100\n",
      "\u001b[1m34/34\u001b[0m \u001b[32m━━━━━━━━━━━━━━━━━━━━\u001b[0m\u001b[37m\u001b[0m \u001b[1m0s\u001b[0m 8ms/step - loss: 3.7060e-04 - val_loss: 4.1931e-04\n",
      "Epoch 96/100\n",
      "\u001b[1m34/34\u001b[0m \u001b[32m━━━━━━━━━━━━━━━━━━━━\u001b[0m\u001b[37m\u001b[0m \u001b[1m0s\u001b[0m 8ms/step - loss: 4.0353e-04 - val_loss: 5.1814e-04\n",
      "Epoch 97/100\n",
      "\u001b[1m34/34\u001b[0m \u001b[32m━━━━━━━━━━━━━━━━━━━━\u001b[0m\u001b[37m\u001b[0m \u001b[1m0s\u001b[0m 8ms/step - loss: 4.2232e-04 - val_loss: 4.1053e-04\n",
      "Epoch 98/100\n",
      "\u001b[1m34/34\u001b[0m \u001b[32m━━━━━━━━━━━━━━━━━━━━\u001b[0m\u001b[37m\u001b[0m \u001b[1m0s\u001b[0m 8ms/step - loss: 3.7696e-04 - val_loss: 5.3152e-04\n",
      "Epoch 99/100\n",
      "\u001b[1m34/34\u001b[0m \u001b[32m━━━━━━━━━━━━━━━━━━━━\u001b[0m\u001b[37m\u001b[0m \u001b[1m0s\u001b[0m 8ms/step - loss: 4.7433e-04 - val_loss: 4.0937e-04\n",
      "Epoch 100/100\n",
      "\u001b[1m34/34\u001b[0m \u001b[32m━━━━━━━━━━━━━━━━━━━━\u001b[0m\u001b[37m\u001b[0m \u001b[1m0s\u001b[0m 8ms/step - loss: 3.5989e-04 - val_loss: 4.0639e-04\n"
     ]
    }
   ],
   "source": [
    "complex_history = complex_model.fit(\n",
    "    X_train, y_train,\n",
    "    epochs=100,\n",
    "    batch_size=32,\n",
    "    validation_split=0.2,\n",
    "    verbose=1\n",
    ")"
   ]
  },
  {
   "cell_type": "code",
   "execution_count": 29,
   "id": "d0975306",
   "metadata": {
    "execution": {
     "iopub.execute_input": "2025-03-10T14:42:18.486822Z",
     "iopub.status.busy": "2025-03-10T14:42:18.486504Z",
     "iopub.status.idle": "2025-03-10T14:42:18.864424Z",
     "shell.execute_reply": "2025-03-10T14:42:18.863353Z"
    },
    "papermill": {
     "duration": 0.44719,
     "end_time": "2025-03-10T14:42:18.865758",
     "exception": false,
     "start_time": "2025-03-10T14:42:18.418568",
     "status": "completed"
    },
    "tags": []
   },
   "outputs": [
    {
     "name": "stdout",
     "output_type": "stream",
     "text": [
      "\u001b[1m11/11\u001b[0m \u001b[32m━━━━━━━━━━━━━━━━━━━━\u001b[0m\u001b[37m\u001b[0m \u001b[1m0s\u001b[0m 18ms/step\n",
      "Complex LSTM Model MSE: 0.0024641046148280686\n"
     ]
    }
   ],
   "source": [
    "predicted_complex = complex_model.predict(X_test)\n",
    "mse_complex = mean_squared_error(y_test, predicted_complex)\n",
    "print(\"Complex LSTM Model MSE:\", mse_complex)"
   ]
  },
  {
   "cell_type": "markdown",
   "id": "a48dfc42",
   "metadata": {
    "papermill": {
     "duration": 0.068794,
     "end_time": "2025-03-10T14:42:19.006396",
     "exception": false,
     "start_time": "2025-03-10T14:42:18.937602",
     "status": "completed"
    },
    "tags": []
   },
   "source": [
    "## <span style=\"color: #a9af90\">5 | </span><span style=\"color: #586c5c\">Plotting Both Models Results</span>"
   ]
  },
  {
   "cell_type": "markdown",
   "id": "34159895",
   "metadata": {
    "papermill": {
     "duration": 0.066137,
     "end_time": "2025-03-10T14:42:19.139484",
     "exception": false,
     "start_time": "2025-03-10T14:42:19.073347",
     "status": "completed"
    },
    "tags": []
   },
   "source": [
    "### <span style=\"color: #a9af90;\">5.1 | </span><span style=\"color: #85937a\">Plot Training and Validation Loss</span>"
   ]
  },
  {
   "cell_type": "code",
   "execution_count": 30,
   "id": "0e7fbbda",
   "metadata": {
    "execution": {
     "iopub.execute_input": "2025-03-10T14:42:19.273050Z",
     "iopub.status.busy": "2025-03-10T14:42:19.272743Z",
     "iopub.status.idle": "2025-03-10T14:42:19.505903Z",
     "shell.execute_reply": "2025-03-10T14:42:19.505059Z"
    },
    "papermill": {
     "duration": 0.301669,
     "end_time": "2025-03-10T14:42:19.507230",
     "exception": false,
     "start_time": "2025-03-10T14:42:19.205561",
     "status": "completed"
    },
    "tags": []
   },
   "outputs": [
    {
     "data": {
      "image/png": "[encoded data removed]",
      "text/plain": [
       "<Figure size 1200x600 with 1 Axes>"
      ]
     },
     "metadata": {},
     "output_type": "display_data"
    }
   ],
   "source": [
    "plt.figure(figsize=(12,6))\n",
    "plt.plot(simple_history.history['loss'], label='Simple LSTM Train Loss')\n",
    "plt.plot(simple_history.history['val_loss'], label='Simple LSTM Val Loss')\n",
    "plt.plot(complex_history.history['loss'], label='Complex LSTM Train Loss')\n",
    "plt.plot(complex_history.history['val_loss'], label='Complex LSTM Val Loss')\n",
    "plt.title('Model Loss Comparison')\n",
    "plt.xlabel('Epochs')\n",
    "plt.ylabel('Loss (MSE)')\n",
    "plt.legend()\n",
    "plt.show()"
   ]
  },
  {
   "cell_type": "markdown",
   "id": "37db3ed6",
   "metadata": {
    "papermill": {
     "duration": 0.067991,
     "end_time": "2025-03-10T14:42:19.643284",
     "exception": false,
     "start_time": "2025-03-10T14:42:19.575293",
     "status": "completed"
    },
    "tags": []
   },
   "source": [
    "### <span style=\"color: #a9af90;\">5.2 | </span><span style=\"color: #85937a\">Plot predictions vs. actual values for the simple LSTM model</span>"
   ]
  },
  {
   "cell_type": "code",
   "execution_count": 31,
   "id": "d39e381e",
   "metadata": {
    "execution": {
     "iopub.execute_input": "2025-03-10T14:42:19.781147Z",
     "iopub.status.busy": "2025-03-10T14:42:19.780858Z",
     "iopub.status.idle": "2025-03-10T14:42:19.996577Z",
     "shell.execute_reply": "2025-03-10T14:42:19.995812Z"
    },
    "papermill": {
     "duration": 0.287438,
     "end_time": "2025-03-10T14:42:19.998108",
     "exception": false,
     "start_time": "2025-03-10T14:42:19.710670",
     "status": "completed"
    },
    "tags": []
   },
   "outputs": [
    {
     "data": {
      "image/png": "[encoded data removed]",
      "text/plain": [
       "<Figure size 1200x600 with 1 Axes>"
      ]
     },
     "metadata": {},
     "output_type": "display_data"
    }
   ],
   "source": [
    "plt.figure(figsize=(12, 6))\n",
    "plt.plot(y_test, color='blue', label='Actual Price')\n",
    "plt.plot(predicted_simple, color='red', label='Predicted (Simple)')\n",
    "plt.title('Simple LSTM Model: Actual vs Predicted (Test Data)')\n",
    "plt.xlabel('Time Step')\n",
    "plt.ylabel('Normalized Price')\n",
    "plt.legend()\n",
    "plt.show()"
   ]
  },
  {
   "cell_type": "markdown",
   "id": "44a91667",
   "metadata": {
    "papermill": {
     "duration": 0.069496,
     "end_time": "2025-03-10T14:42:20.138504",
     "exception": false,
     "start_time": "2025-03-10T14:42:20.069008",
     "status": "completed"
    },
    "tags": []
   },
   "source": [
    "### <span style=\"color: #a9af90;\">5.3 | </span><span style=\"color: #85937a\">Plot predictions vs. actual values for the complex LSTM model</span>"
   ]
  },
  {
   "cell_type": "code",
   "execution_count": 32,
   "id": "a22fbc57",
   "metadata": {
    "execution": {
     "iopub.execute_input": "2025-03-10T14:42:20.277229Z",
     "iopub.status.busy": "2025-03-10T14:42:20.276861Z",
     "iopub.status.idle": "2025-03-10T14:42:20.484605Z",
     "shell.execute_reply": "2025-03-10T14:42:20.483769Z"
    },
    "papermill": {
     "duration": 0.279005,
     "end_time": "2025-03-10T14:42:20.485972",
     "exception": false,
     "start_time": "2025-03-10T14:42:20.206967",
     "status": "completed"
    },
    "tags": []
   },
   "outputs": [
    {
     "data": {
      "image/png": "[encoded data removed]",
      "text/plain": [
       "<Figure size 1200x600 with 1 Axes>"
      ]
     },
     "metadata": {},
     "output_type": "display_data"
    }
   ],
   "source": [
    "plt.figure(figsize=(12, 6))\n",
    "plt.plot(y_test, color='blue', label='Actual Price')\n",
    "plt.plot(predicted_complex, color='green', label='Predicted (Complex)')\n",
    "plt.title('Complex LSTM Model: Actual vs Predicted (Test Data)')\n",
    "plt.xlabel('Time Step')\n",
    "plt.ylabel('Normalized Price')\n",
    "plt.legend()\n",
    "plt.show()"
   ]
  },
  {
   "cell_type": "markdown",
   "id": "3ed6d6b4",
   "metadata": {
    "papermill": {
     "duration": 0.076508,
     "end_time": "2025-03-10T14:42:20.635007",
     "exception": false,
     "start_time": "2025-03-10T14:42:20.558499",
     "status": "completed"
    },
    "tags": []
   },
   "source": [
    "## <span style=\"color: #a9af90\">6 | </span><span style=\"color: #586c5c\">Forecasting the Next 10 Days</span>"
   ]
  },
  {
   "cell_type": "markdown",
   "id": "9286e164",
   "metadata": {
    "papermill": {
     "duration": 0.072936,
     "end_time": "2025-03-10T14:42:20.780553",
     "exception": false,
     "start_time": "2025-03-10T14:42:20.707617",
     "status": "completed"
    },
    "tags": []
   },
   "source": [
    "### <span style=\"color: #a9af90;\">6.1 | </span><span style=\"color: #85937a\">Forecasting with the Simple LSTM Model</span>"
   ]
  },
  {
   "cell_type": "code",
   "execution_count": 33,
   "id": "92c24910",
   "metadata": {
    "execution": {
     "iopub.execute_input": "2025-03-10T14:42:20.925086Z",
     "iopub.status.busy": "2025-03-10T14:42:20.924790Z",
     "iopub.status.idle": "2025-03-10T14:42:21.452568Z",
     "shell.execute_reply": "2025-03-10T14:42:21.451775Z"
    },
    "papermill": {
     "duration": 0.601605,
     "end_time": "2025-03-10T14:42:21.453960",
     "exception": false,
     "start_time": "2025-03-10T14:42:20.852355",
     "status": "completed"
    },
    "tags": []
   },
   "outputs": [
    {
     "name": "stdout",
     "output_type": "stream",
     "text": [
      "\u001b[1m1/1\u001b[0m \u001b[32m━━━━━━━━━━━━━━━━━━━━\u001b[0m\u001b[37m\u001b[0m \u001b[1m0s\u001b[0m 18ms/step\n",
      "\u001b[1m1/1\u001b[0m \u001b[32m━━━━━━━━━━━━━━━━━━━━\u001b[0m\u001b[37m\u001b[0m \u001b[1m0s\u001b[0m 17ms/step\n",
      "\u001b[1m1/1\u001b[0m \u001b[32m━━━━━━━━━━━━━━━━━━━━\u001b[0m\u001b[37m\u001b[0m \u001b[1m0s\u001b[0m 17ms/step\n",
      "\u001b[1m1/1\u001b[0m \u001b[32m━━━━━━━━━━━━━━━━━━━━\u001b[0m\u001b[37m\u001b[0m \u001b[1m0s\u001b[0m 16ms/step\n",
      "\u001b[1m1/1\u001b[0m \u001b[32m━━━━━━━━━━━━━━━━━━━━\u001b[0m\u001b[37m\u001b[0m \u001b[1m0s\u001b[0m 17ms/step\n",
      "\u001b[1m1/1\u001b[0m \u001b[32m━━━━━━━━━━━━━━━━━━━━\u001b[0m\u001b[37m\u001b[0m \u001b[1m0s\u001b[0m 17ms/step\n",
      "\u001b[1m1/1\u001b[0m \u001b[32m━━━━━━━━━━━━━━━━━━━━\u001b[0m\u001b[37m\u001b[0m \u001b[1m0s\u001b[0m 17ms/step\n",
      "\u001b[1m1/1\u001b[0m \u001b[32m━━━━━━━━━━━━━━━━━━━━\u001b[0m\u001b[37m\u001b[0m \u001b[1m0s\u001b[0m 16ms/step\n",
      "\u001b[1m1/1\u001b[0m \u001b[32m━━━━━━━━━━━━━━━━━━━━\u001b[0m\u001b[37m\u001b[0m \u001b[1m0s\u001b[0m 16ms/step\n",
      "\u001b[1m1/1\u001b[0m \u001b[32m━━━━━━━━━━━━━━━━━━━━\u001b[0m\u001b[37m\u001b[0m \u001b[1m0s\u001b[0m 16ms/step\n",
      "Simple LSTM Future Predictions (actual scale):\n",
      "[[189.38048]\n",
      " [188.17537]\n",
      " [187.08205]\n",
      " [186.06728]\n",
      " [185.10805]\n",
      " [184.18854]\n",
      " [183.29845]\n",
      " [182.43138]\n",
      " [181.58372]\n",
      " [180.75359]]\n"
     ]
    }
   ],
   "source": [
    "num_future = 10\n",
    "\n",
    "last_sequence_simple = scaled_data[-look_back:]\n",
    "last_sequence_simple = last_sequence_simple.reshape(1, look_back, 1)\n",
    "\n",
    "predicted_future_simple = []\n",
    "\n",
    "for i in range(num_future):\n",
    "    pred = simple_model.predict(last_sequence_simple)\n",
    "    predicted_future_simple.append(pred[0, 0])\n",
    "    new_val = pred.reshape(1, 1, 1)\n",
    "    last_sequence_simple = np.concatenate((last_sequence_simple[:, 1:, :], new_val), axis=1)\n",
    "\n",
    "predicted_future_simple = np.array(predicted_future_simple).reshape(-1, 1)\n",
    "predicted_future_simple_actual = scaler.inverse_transform(predicted_future_simple)\n",
    "print(\"Simple LSTM Future Predictions (actual scale):\")\n",
    "print(predicted_future_simple_actual)"
   ]
  },
  {
   "cell_type": "markdown",
   "id": "87ddfda3",
   "metadata": {
    "papermill": {
     "duration": 0.074591,
     "end_time": "2025-03-10T14:42:21.608267",
     "exception": false,
     "start_time": "2025-03-10T14:42:21.533676",
     "status": "completed"
    },
    "tags": []
   },
   "source": [
    "### <span style=\"color: #a9af90;\">6.2 | </span><span style=\"color: #85937a\">Forecasting with the Complex LSTM Model</span>"
   ]
  },
  {
   "cell_type": "code",
   "execution_count": 34,
   "id": "889404bc",
   "metadata": {
    "execution": {
     "iopub.execute_input": "2025-03-10T14:42:21.784471Z",
     "iopub.status.busy": "2025-03-10T14:42:21.784157Z",
     "iopub.status.idle": "2025-03-10T14:42:22.330725Z",
     "shell.execute_reply": "2025-03-10T14:42:22.330022Z"
    },
    "papermill": {
     "duration": 0.623507,
     "end_time": "2025-03-10T14:42:22.332103",
     "exception": false,
     "start_time": "2025-03-10T14:42:21.708596",
     "status": "completed"
    },
    "tags": []
   },
   "outputs": [
    {
     "name": "stdout",
     "output_type": "stream",
     "text": [
      "\u001b[1m1/1\u001b[0m \u001b[32m━━━━━━━━━━━━━━━━━━━━\u001b[0m\u001b[37m\u001b[0m \u001b[1m0s\u001b[0m 19ms/step\n",
      "\u001b[1m1/1\u001b[0m \u001b[32m━━━━━━━━━━━━━━━━━━━━\u001b[0m\u001b[37m\u001b[0m \u001b[1m0s\u001b[0m 18ms/step\n",
      "\u001b[1m1/1\u001b[0m \u001b[32m━━━━━━━━━━━━━━━━━━━━\u001b[0m\u001b[37m\u001b[0m \u001b[1m0s\u001b[0m 19ms/step\n",
      "\u001b[1m1/1\u001b[0m \u001b[32m━━━━━━━━━━━━━━━━━━━━\u001b[0m\u001b[37m\u001b[0m \u001b[1m0s\u001b[0m 19ms/step\n",
      "\u001b[1m1/1\u001b[0m \u001b[32m━━━━━━━━━━━━━━━━━━━━\u001b[0m\u001b[37m\u001b[0m \u001b[1m0s\u001b[0m 18ms/step\n",
      "\u001b[1m1/1\u001b[0m \u001b[32m━━━━━━━━━━━━━━━━━━━━\u001b[0m\u001b[37m\u001b[0m \u001b[1m0s\u001b[0m 18ms/step\n",
      "\u001b[1m1/1\u001b[0m \u001b[32m━━━━━━━━━━━━━━━━━━━━\u001b[0m\u001b[37m\u001b[0m \u001b[1m0s\u001b[0m 18ms/step\n",
      "\u001b[1m1/1\u001b[0m \u001b[32m━━━━━━━━━━━━━━━━━━━━\u001b[0m\u001b[37m\u001b[0m \u001b[1m0s\u001b[0m 18ms/step\n",
      "\u001b[1m1/1\u001b[0m \u001b[32m━━━━━━━━━━━━━━━━━━━━\u001b[0m\u001b[37m\u001b[0m \u001b[1m0s\u001b[0m 18ms/step\n",
      "\u001b[1m1/1\u001b[0m \u001b[32m━━━━━━━━━━━━━━━━━━━━\u001b[0m\u001b[37m\u001b[0m \u001b[1m0s\u001b[0m 18ms/step\n",
      "Complex LSTM Future Predictions (actual scale):\n",
      "[[181.71336]\n",
      " [177.70221]\n",
      " [173.70293]\n",
      " [170.18929]\n",
      " [167.1451 ]\n",
      " [164.45253]\n",
      " [161.97797]\n",
      " [159.62465]\n",
      " [157.33774]\n",
      " [155.12984]]\n"
     ]
    }
   ],
   "source": [
    "num_future = 10\n",
    "\n",
    "last_sequence_complex = scaled_data[-look_back:]\n",
    "last_sequence_complex = last_sequence_complex.reshape(1, look_back, 1)\n",
    "\n",
    "predicted_future_complex = []\n",
    "\n",
    "for i in range(num_future):\n",
    "    pred = complex_model.predict(last_sequence_complex)\n",
    "    predicted_future_complex.append(pred[0, 0])\n",
    "    new_val = pred.reshape(1, 1, 1)\n",
    "    last_sequence_complex = np.concatenate((last_sequence_complex[:, 1:, :], new_val), axis=1)\n",
    "\n",
    "predicted_future_complex = np.array(predicted_future_complex).reshape(-1, 1)\n",
    "predicted_future_complex_actual = scaler.inverse_transform(predicted_future_complex)\n",
    "print(\"Complex LSTM Future Predictions (actual scale):\")\n",
    "print(predicted_future_complex_actual)"
   ]
  },
  {
   "cell_type": "markdown",
   "id": "d2d75e3d",
   "metadata": {
    "papermill": {
     "duration": 0.076359,
     "end_time": "2025-03-10T14:42:22.488941",
     "exception": false,
     "start_time": "2025-03-10T14:42:22.412582",
     "status": "completed"
    },
    "tags": []
   },
   "source": [
    "## <span style=\"color: #a9af90\">7 | </span><span style=\"color: #586c5c\">Comparing Future Forecasts with Actual Data</span>"
   ]
  },
  {
   "cell_type": "code",
   "execution_count": 35,
   "id": "e89c2392",
   "metadata": {
    "execution": {
     "iopub.execute_input": "2025-03-10T14:42:22.638528Z",
     "iopub.status.busy": "2025-03-10T14:42:22.638224Z",
     "iopub.status.idle": "2025-03-10T14:42:22.875199Z",
     "shell.execute_reply": "2025-03-10T14:42:22.874350Z"
    },
    "papermill": {
     "duration": 0.313761,
     "end_time": "2025-03-10T14:42:22.876517",
     "exception": false,
     "start_time": "2025-03-10T14:42:22.562756",
     "status": "completed"
    },
    "tags": []
   },
   "outputs": [
    {
     "data": {
      "image/png": "[encoded data removed]",
      "text/plain": [
       "<Figure size 1200x600 with 1 Axes>"
      ]
     },
     "metadata": {},
     "output_type": "display_data"
    }
   ],
   "source": [
    "plt.figure(figsize=(12, 6))\n",
    "plt.plot(future_df['date'], future_df['close'], marker='o', color='blue', label='Actual Future Price')\n",
    "plt.plot(future_df['date'], predicted_future_simple_actual, marker='x', linestyle='--', color='red', label='Simple LSTM Forecast')\n",
    "plt.plot(future_df['date'], predicted_future_complex_actual, marker='s', linestyle='--', color='green', label='Complex LSTM Forecast')\n",
    "plt.title(\"Future Price Forecast: Actual vs Predicted\")\n",
    "plt.xlabel(\"Date\")\n",
    "plt.ylabel(\"Price (USD)\")\n",
    "plt.legend()\n",
    "plt.show()"
   ]
  },
  {
   "cell_type": "markdown",
   "id": "3eaf2689",
   "metadata": {
    "papermill": {
     "duration": 0.0743,
     "end_time": "2025-03-10T14:42:23.064924",
     "exception": false,
     "start_time": "2025-03-10T14:42:22.990624",
     "status": "completed"
    },
    "tags": []
   },
   "source": [
    "## <span style=\"color: #a9af90\">8 | </span><span style=\"color: #586c5c\">Result</span>"
   ]
  },
  {
   "cell_type": "markdown",
   "id": "3e35f2d6",
   "metadata": {
    "papermill": {
     "duration": 0.074126,
     "end_time": "2025-03-10T14:42:23.213241",
     "exception": false,
     "start_time": "2025-03-10T14:42:23.139115",
     "status": "completed"
    },
    "tags": []
   },
   "source": [
    "**The `Simple` LSTM architect is more appropriate for this forcasting.**"
   ]
  },
  {
   "cell_type": "markdown",
   "id": "00495c6d",
   "metadata": {
    "papermill": {
     "duration": 0.074276,
     "end_time": "2025-03-10T14:42:23.361223",
     "exception": false,
     "start_time": "2025-03-10T14:42:23.286947",
     "status": "completed"
    },
    "tags": []
   },
   "source": [
    "---"
   ]
  },
  {
   "cell_type": "markdown",
   "id": "8c9b83d0",
   "metadata": {
    "_kg_hide-output": true,
    "papermill": {
     "duration": 0.073434,
     "end_time": "2025-03-10T14:42:23.508234",
     "exception": false,
     "start_time": "2025-03-10T14:42:23.434800",
     "status": "completed"
    },
    "tags": []
   },
   "source": [
    "# <span style=\"color: #85937a\">The End!</span>\n",
    "### <span style=\"color: #586c5c\">Mohammad Soroush Esnaashari</span>"
   ]
  }
 ],
 "metadata": {
  "kaggle": {
   "accelerator": "nvidiaTeslaT4",
   "dataSources": [],
   "dockerImageVersionId": 30918,
   "isGpuEnabled": true,
   "isInternetEnabled": true,
   "language": "python",
   "sourceType": "notebook"
  },
  "kernelspec": {
   "display_name": "Python 3",
   "language": "python",
   "name": "python3"
  },
  "language_info": {
   "codemirror_mode": {
    "name": "ipython",
    "version": 3
   },
   "file_extension": ".py",
   "mimetype": "text/x-python",
   "name": "python",
   "nbconvert_exporter": "python",
   "pygments_lexer": "ipython3",
   "version": "3.10.12"
  },
  "papermill": {
   "default_parameters": {},
   "duration": 100.762505,
   "end_time": "2025-03-10T14:42:26.286776",
   "environment_variables": {},
   "exception": null,
   "input_path": "__notebook__.ipynb",
   "output_path": "__notebook__.ipynb",
   "parameters": {},
   "start_time": "2025-03-10T14:40:45.524271",
   "version": "2.6.0"
  }
 },
 "nbformat": 4,
 "nbformat_minor": 5
}
